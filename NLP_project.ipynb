{
 "cells": [
  {
   "cell_type": "markdown",
   "id": "a12e2385",
   "metadata": {},
   "source": [
    "# NLP project"
   ]
  },
  {
   "cell_type": "markdown",
   "id": "5b572655",
   "metadata": {},
   "source": [
    "Sentiment analysis is a task to identify the sentiment of customers using reviews given by them.\n",
    "In this project, the sentiment analysis problem of customers using office products on Amazon\n",
    "website has been handled using two approaches. In order to build models of this approaches\n",
    "customers’ reviews, summaries, and ratings are used as input data and model evaluation is done\n",
    "with the help of different performance measures of multi-class classification."
   ]
  },
  {
   "cell_type": "markdown",
   "id": "aced821d",
   "metadata": {},
   "source": [
    "## 1. Dataset data exploration:"
   ]
  },
  {
   "cell_type": "code",
   "execution_count": 1,
   "id": "8fa19878",
   "metadata": {},
   "outputs": [],
   "source": [
    "import pandas as pd\n",
    "import numpy as np\n",
    "from sklearn.model_selection import train_test_split\n",
    "import matplotlib.pyplot as plt\n",
    "import seaborn as sns\n",
    "from sklearn.metrics import accuracy_score, f1_score, precision_score, recall_score"
   ]
  },
  {
   "cell_type": "code",
   "execution_count": 2,
   "id": "1d9f3039",
   "metadata": {},
   "outputs": [],
   "source": [
    "#Loaded office_products review dataset as assigned to Team 4\n",
    "\n",
    "df = pd.read_json('C:/Abhi/sem4/NLP & Recommender System/Group project/Office_Products_5.json', lines=True)"
   ]
  },
  {
   "cell_type": "code",
   "execution_count": 3,
   "id": "130259d9",
   "metadata": {},
   "outputs": [
    {
     "name": "stdout",
     "output_type": "stream",
     "text": [
      "<class 'pandas.core.frame.DataFrame'>\n",
      "RangeIndex: 53258 entries, 0 to 53257\n",
      "Data columns (total 9 columns):\n",
      " #   Column          Non-Null Count  Dtype \n",
      "---  ------          --------------  ----- \n",
      " 0   reviewerID      53258 non-null  object\n",
      " 1   asin            53258 non-null  object\n",
      " 2   reviewerName    52799 non-null  object\n",
      " 3   helpful         53258 non-null  object\n",
      " 4   reviewText      53258 non-null  object\n",
      " 5   overall         53258 non-null  int64 \n",
      " 6   summary         53258 non-null  object\n",
      " 7   unixReviewTime  53258 non-null  int64 \n",
      " 8   reviewTime      53258 non-null  object\n",
      "dtypes: int64(2), object(7)\n",
      "memory usage: 3.7+ MB\n"
     ]
    }
   ],
   "source": [
    "#Checking column names, data types and shape of dataset\n",
    "\n",
    "df.info()"
   ]
  },
  {
   "cell_type": "code",
   "execution_count": 4,
   "id": "d6270650",
   "metadata": {},
   "outputs": [
    {
     "data": {
      "text/plain": [
       "reviewerID          0\n",
       "asin                0\n",
       "reviewerName      459\n",
       "helpful             0\n",
       "reviewText          0\n",
       "overall             0\n",
       "summary             0\n",
       "unixReviewTime      0\n",
       "reviewTime          0\n",
       "dtype: int64"
      ]
     },
     "execution_count": 4,
     "metadata": {},
     "output_type": "execute_result"
    }
   ],
   "source": [
    "#Checking NUll values in dataset\n",
    "\n",
    "df.isnull().sum()"
   ]
  },
  {
   "cell_type": "code",
   "execution_count": 5,
   "id": "5a57af71",
   "metadata": {},
   "outputs": [
    {
     "data": {
      "text/plain": [
       "2420"
      ]
     },
     "execution_count": 5,
     "metadata": {},
     "output_type": "execute_result"
    }
   ],
   "source": [
    "#Total number of unique products in the dataset\n",
    "\n",
    "df['asin'].nunique() "
   ]
  },
  {
   "cell_type": "code",
   "execution_count": 6,
   "id": "e8fcbc89",
   "metadata": {},
   "outputs": [
    {
     "data": {
      "text/plain": [
       "4905"
      ]
     },
     "execution_count": 6,
     "metadata": {},
     "output_type": "execute_result"
    }
   ],
   "source": [
    "#Total number of unique reviewers in the dataset\n",
    "\n",
    "df['reviewerID'].nunique() "
   ]
  },
  {
   "cell_type": "code",
   "execution_count": 7,
   "id": "4e7a7abd",
   "metadata": {},
   "outputs": [],
   "source": [
    "#Function to return length of the String\n",
    "\n",
    "def max_length(text):\n",
    "    return len(text)"
   ]
  },
  {
   "cell_type": "code",
   "execution_count": 8,
   "id": "387e2882",
   "metadata": {},
   "outputs": [
    {
     "name": "stdout",
     "output_type": "stream",
     "text": [
      "index of longest review in the dataset : 19406 \n",
      "\n",
      "\n"
     ]
    }
   ],
   "source": [
    "#Applied above function on each row of column 'reviewText' to find length of the reviews \n",
    "df['len_review'] = df.apply(lambda row: max_length(row['reviewText']), axis=1)\n",
    "\n",
    "max_len_reviewid = df['len_review'].argmax()\n",
    "max_len_review = df.iloc[max_len_reviewid]\n",
    "\n",
    "print(f'index of longest review in the dataset : {max_len_reviewid} \\n\\n')"
   ]
  },
  {
   "cell_type": "code",
   "execution_count": 9,
   "id": "bc00fbcf",
   "metadata": {},
   "outputs": [
    {
     "name": "stdout",
     "output_type": "stream",
     "text": [
      "Longest Summary in the dataset: 6304 \n",
      "\n",
      "\n"
     ]
    },
    {
     "data": {
      "text/plain": [
       "\"Obviously this pen is not a very expensive fountain pen that is a 'showpiece', rather it is an everyday pen that should survive daily use and is a replacement for a ballpoint or rollerball pen. It takes a bit of use to get formalized to using a fountain pen and sometimes you may find it skipping especially when it has air pockets in the chamber or you're at a strange angle. This is expected but that is the fun and uniqueness of using such a pen. It is plastic but very sold (not weight wise but feel wise). The clip is large but this is a good thing if you carry it in your pocket and want it to be secure. The nib is a fine nib but from reading other sites, it seems as if the size is closer to a medium. (Japan nibs vs. German?). Whatever; the script is very close to my other nibs labeled as medium. This is a very good everyday thickness; not too fine and not too broad. The one cartridge it comes with is BLUE. I would recommend buying a good bottle of ink and a Z24 converter. This up front cost will surely save you a lot of money if you intend to actually use your pen. I have read many reviews that recommend filling this converter directly from the bottle and not while it is in the pen. This would be easy if the bottle is full. Lamy recommends filling the pen with the converter inside the pen and filling through the nib. It seems as if the outcome is the same. The following link is Lamy's video on how to fill the Z26 and Z24; they are the same procedures. http://www.youtube.com/watch?v=OXZ-VN6vAZw[...]\""
      ]
     },
     "execution_count": 9,
     "metadata": {},
     "output_type": "execute_result"
    }
   ],
   "source": [
    "##Applied above function on each row of column 'summary' to find length of the reviews \n",
    "\n",
    "df['len_summary'] = df.apply(lambda row: max_length(row['summary']), axis=1)\n",
    "max_len_summaryid = df['len_summary'].argmax()\n",
    "max_len_summary = df.iloc[max_len_summaryid]\n",
    "\n",
    "print(f'Longest Summary in the dataset: {max_len_summaryid} \\n\\n')\n",
    "max_len_summary['reviewText'] #Longest summary\n"
   ]
  },
  {
   "cell_type": "code",
   "execution_count": 10,
   "id": "bee0e481",
   "metadata": {},
   "outputs": [
    {
     "name": "stderr",
     "output_type": "stream",
     "text": [
      "C:\\ProgramData\\Anaconda3\\lib\\site-packages\\seaborn\\distributions.py:2619: FutureWarning: `distplot` is a deprecated function and will be removed in a future version. Please adapt your code to use either `displot` (a figure-level function with similar flexibility) or `histplot` (an axes-level function for histograms).\n",
      "  warnings.warn(msg, FutureWarning)\n"
     ]
    },
    {
     "data": {
      "text/plain": [
       "Text(0.5, 1.0, 'distribution of length of the reiviewText')"
      ]
     },
     "execution_count": 10,
     "metadata": {},
     "output_type": "execute_result"
    },
    {
     "data": {
      "image/png": "[encoded data removed]",
      "text/plain": [
       "<Figure size 432x288 with 1 Axes>"
      ]
     },
     "metadata": {
      "needs_background": "light"
     },
     "output_type": "display_data"
    }
   ],
   "source": [
    "\n",
    "fig, ax = plt.subplots()\n",
    "\n",
    "sns.distplot(df['len_review'], bins=100)\n",
    "ax.set_xlim(1,3000)\n",
    "ax.set_xticks(range(0,3000,300))\n",
    "plt.title('distribution of length of the reiviewText')"
   ]
  },
  {
   "cell_type": "markdown",
   "id": "98289bd7",
   "metadata": {},
   "source": [
    "'''\n",
    "The graph above shows the length of reviews in the dataset and how the length of\n",
    "sentences is distributed.\n",
    "It can be noticed that most of the reviews are 200-400 characters long. The number of\n",
    "reviews is decreasing as the total number of characters are increasing in the review sentence.\n",
    "'''"
   ]
  },
  {
   "cell_type": "code",
   "execution_count": 11,
   "id": "b1dc9a9d",
   "metadata": {},
   "outputs": [
    {
     "name": "stderr",
     "output_type": "stream",
     "text": [
      "C:\\ProgramData\\Anaconda3\\lib\\site-packages\\seaborn\\distributions.py:2619: FutureWarning: `distplot` is a deprecated function and will be removed in a future version. Please adapt your code to use either `displot` (a figure-level function with similar flexibility) or `histplot` (an axes-level function for histograms).\n",
      "  warnings.warn(msg, FutureWarning)\n"
     ]
    },
    {
     "data": {
      "text/plain": [
       "Text(0.5, 1.0, 'distribution of length of the Summary')"
      ]
     },
     "execution_count": 11,
     "metadata": {},
     "output_type": "execute_result"
    },
    {
     "data": {
      "image/png": "[encoded data removed]",
      "text/plain": [
       "<Figure size 432x288 with 1 Axes>"
      ]
     },
     "metadata": {
      "needs_background": "light"
     },
     "output_type": "display_data"
    }
   ],
   "source": [
    "\n",
    "fig, ax = plt.subplots()\n",
    "\n",
    "sns.distplot(df['len_summary'])\n",
    "ax.set_xlim(1,150)\n",
    "ax.set_xticks(range(0,150,20))\n",
    "plt.title('distribution of length of the Summary')"
   ]
  },
  {
   "cell_type": "markdown",
   "id": "a4cc157e",
   "metadata": {},
   "source": [
    "'''\n",
    "Same way, the graph above represents the length of the summary in the dataset\n",
    "and how the length of summaries is distributed.\n",
    "It can be noted that most of the summaries are 10-30 characters long. The number of\n",
    "summaries is decreasing as the total number of characters is increasing\n",
    "'''"
   ]
  },
  {
   "cell_type": "code",
   "execution_count": 13,
   "id": "5a9609ef",
   "metadata": {},
   "outputs": [
    {
     "data": {
      "image/png": "[encoded data removed]",
      "text/plain": [
       "<Figure size 432x288 with 1 Axes>"
      ]
     },
     "metadata": {
      "needs_background": "light"
     },
     "output_type": "display_data"
    }
   ],
   "source": [
    "hold = df['reviewText'].str.split().apply(lambda x : [len(i) for i in x]).map(lambda x: np.mean(x))\n",
    " \n",
    "fig, ax = plt.subplots()\n",
    "\n",
    "hold.hist()\n",
    "ax.set_xlim(1,8)\n",
    "ax.set_xticks(range(1,8,1))\n",
    "plt.title('Average word length in the reviewText')\n",
    "plt.xlabel('Length of the words')\n",
    "plt.ylabel('frequency')\n",
    "plt.show()"
   ]
  },
  {
   "cell_type": "markdown",
   "id": "68c0822e",
   "metadata": {},
   "source": [
    "'''\n",
    "The Histogram above shows that 40,000 words are 4-5 characters long and 10,000 words\n",
    "are 5-6 characters long\n",
    "'''"
   ]
  },
  {
   "cell_type": "code",
   "execution_count": 14,
   "id": "82aba22d",
   "metadata": {},
   "outputs": [],
   "source": [
    "#Dropping columns that created to get some insights\n",
    "df.drop(['len_review', 'len_summary'], axis=1, inplace= True)\n"
   ]
  },
  {
   "cell_type": "code",
   "execution_count": 15,
   "id": "3957f1f6",
   "metadata": {},
   "outputs": [
    {
     "data": {
      "image/png": "[encoded data removed]",
      "text/plain": [
       "<Figure size 504x504 with 1 Axes>"
      ]
     },
     "metadata": {},
     "output_type": "display_data"
    }
   ],
   "source": [
    "overall_count =df['overall'].value_counts()\n",
    "\n",
    "overall_count =pd.DataFrame(overall_count)\n",
    "plt.figure(figsize = (7,7))\n",
    "plt.pie( overall_count.overall,\n",
    "        labels = [5,4,3,2,1],\n",
    "        #colors = ['c','m','r','b'],\n",
    "        startangle=90,\n",
    "        shadow = True,\n",
    "        explode=(0,0.1,0,0,0),\n",
    "        autopct='%1.1f%%'\n",
    "         )\n",
    "plt.title(\"Percentage distribution of overall ratings\")\n",
    "plt.show()"
   ]
  },
  {
   "cell_type": "markdown",
   "id": "6526df4c",
   "metadata": {},
   "source": [
    "'''\n",
    "The pie chart above represents the percentage of each rating in the dataset.\n",
    "Rating 5 has the maximum part in the dataset with around 57% and the second major part\n",
    "is rating 4 with 28.2%. The remaining percentages are divided among ratings 1, 2, and 3.\n",
    "Hence, it can be inferred that ratings are not divided equally, and the dataset is not totally\n",
    "balanced.\n",
    "'''"
   ]
  },
  {
   "cell_type": "code",
   "execution_count": 21,
   "id": "85821c2a",
   "metadata": {},
   "outputs": [
    {
     "data": {
      "image/png": "[encoded data removed]",
      "text/plain": [
       "<Figure size 432x288 with 1 Axes>"
      ]
     },
     "metadata": {
      "needs_background": "light"
     },
     "output_type": "display_data"
    }
   ],
   "source": [
    "##c. Distribution of the number of reviews across product\n",
    "fig, ax = plt.subplots()\n",
    "\n",
    "sns.histplot(df['overall'])\n",
    "plt.title('distribution of the number of review across products')\n",
    "plt.show()"
   ]
  },
  {
   "cell_type": "code",
   "execution_count": 24,
   "id": "afa074a1",
   "metadata": {},
   "outputs": [
    {
     "data": {
      "text/plain": [
       "Text(0.5, 0, 'Toal number of reviews per product')"
      ]
     },
     "execution_count": 24,
     "metadata": {},
     "output_type": "execute_result"
    },
    {
     "data": {
      "image/png": "[encoded data removed]",
      "text/plain": [
       "<Figure size 432x288 with 1 Axes>"
      ]
     },
     "metadata": {
      "needs_background": "light"
     },
     "output_type": "display_data"
    }
   ],
   "source": [
    "#c. Distribution of the number of reviews per product\n",
    "# In other words, total number of reviews each products have\n",
    "\n",
    "temp = df.groupby(['asin']).count()\n",
    "temp['reviewerID']\n",
    "\n",
    "fig, ax = plt.subplots()\n",
    "\n",
    "sns.histplot(temp['reviewerID'])\n",
    "ax.set_xlim(1,100)\n",
    "ax.set_xticks(range(0,100,5))\n",
    "plt.title('distribution of the number of review per products')\n",
    "plt.xlabel('Toal number of reviews per product')"
   ]
  },
  {
   "cell_type": "markdown",
   "id": "bc7644d2",
   "metadata": {},
   "source": [
    "'''\n",
    "The histogram shows that most of the products have 5-10 reviews. And the number of\n",
    "products decreases as the total number of reviews increases\n",
    "'''"
   ]
  },
  {
   "cell_type": "code",
   "execution_count": 25,
   "id": "884467d8",
   "metadata": {},
   "outputs": [
    {
     "data": {
      "image/png": "[encoded data removed]",
      "text/plain": [
       "<Figure size 720x360 with 1 Axes>"
      ]
     },
     "metadata": {
      "needs_background": "light"
     },
     "output_type": "display_data"
    }
   ],
   "source": [
    "'''Graph below shows top 10 product that has highest number of reviews'''\n",
    "\n",
    "highest_reviews = temp['reviewerID'].sort_values(ascending= False)[:10]\n",
    "\n",
    "plt.figure(figsize=(10,5))\n",
    "plt.barh(highest_reviews.index, highest_reviews.values)\n",
    "plt.title('Top 10 products with highest number of reviews')\n",
    "plt.xlabel('Total number of reviews')\n",
    "plt.ylabel('Product id')\n",
    "plt.show()"
   ]
  },
  {
   "cell_type": "markdown",
   "id": "69b80bd4",
   "metadata": {},
   "source": [
    "'''\n",
    "The above bar graph depicts the top 10 products based on highest number of reviews.\n",
    "Product with id ‘B0010T3QT2’ has more than 300 reviews (highest). Rest top products\n",
    "has around 200 reviews\n",
    "'''"
   ]
  },
  {
   "cell_type": "code",
   "execution_count": 26,
   "id": "062d24b6",
   "metadata": {},
   "outputs": [
    {
     "data": {
      "text/plain": [
       "reviewerID\n",
       "A00473363TJ8YSZ3YAGG9     5\n",
       "A04324702R5O7JRSQNVAH     5\n",
       "A0678500JUN3N7KUG4PS      7\n",
       "A100UD67AHFODS            5\n",
       "A100WO06OQR8BQ           45\n",
       "                         ..\n",
       "AZQJ85BTRUQV2             7\n",
       "AZU2JDR2GVICQ             5\n",
       "AZYJE40XW6MFG            11\n",
       "AZZ5ASC403N74            12\n",
       "AZZD30PYJVGI7             5\n",
       "Name: asin, Length: 4905, dtype: int64"
      ]
     },
     "execution_count": 26,
     "metadata": {},
     "output_type": "execute_result"
    }
   ],
   "source": [
    "#d. Distribution of reviews per user\n",
    "#In other words, total number of reviews given by each user\n",
    "temp = df.groupby(['reviewerID']).count()\n",
    "temp['asin']"
   ]
  },
  {
   "cell_type": "code",
   "execution_count": 18,
   "id": "0e4e7097",
   "metadata": {},
   "outputs": [
    {
     "data": {
      "image/png": "[encoded data removed]",
      "text/plain": [
       "<Figure size 720x360 with 1 Axes>"
      ]
     },
     "metadata": {
      "needs_background": "light"
     },
     "output_type": "display_data"
    }
   ],
   "source": [
    "'''Graph below shows top 10 active reviewers'''\n",
    "\n",
    "top_users = temp['asin'].sort_values(ascending= False)[:10]\n",
    "plt.figure(figsize=(10,5))\n",
    "plt.barh(top_users.index, top_users.values)\n",
    "plt.title('Top 10 active reviewers')\n",
    "plt.xlabel('Total number of reviews given on different products')\n",
    "plt.ylabel('user id')\n",
    "plt.show()"
   ]
  },
  {
   "cell_type": "markdown",
   "id": "439362b4",
   "metadata": {},
   "source": [
    "'''\n",
    "The bar chart represents the top 10 reviewers, and it shows that 1st reviewer has given\n",
    "around 90 reviews. Other top reviewers have given total reviews of around 70-80. \n",
    "'''"
   ]
  },
  {
   "cell_type": "code",
   "execution_count": 19,
   "id": "c5522309",
   "metadata": {},
   "outputs": [
    {
     "name": "stdout",
     "output_type": "stream",
     "text": [
      "asin\n",
      "B00000JBLH    4.625000\n",
      "B00000JBLU    4.888889\n",
      "B00000JBNX    4.391304\n",
      "B00000JBO8    4.100000\n",
      "B00000JFNV    4.727273\n",
      "B00000JZKB    4.066667\n",
      "B00000K3T0    5.000000\n",
      "B00001MXVQ    2.800000\n",
      "B00002NDS2    4.812500\n",
      "B00002QUKW    5.000000\n",
      "Name: overall, dtype: float64\n"
     ]
    }
   ],
   "source": [
    "#Average rating of each product\n",
    "temp = df.groupby(['asin']).mean()\n",
    "\n",
    "print(temp['overall'].iloc[:10])  #Aveage rating for each product"
   ]
  },
  {
   "cell_type": "code",
   "execution_count": 20,
   "id": "dd5bbc6b",
   "metadata": {},
   "outputs": [
    {
     "data": {
      "text/plain": [
       "Text(0, 0.5, 'total number of reviews')"
      ]
     },
     "execution_count": 20,
     "metadata": {},
     "output_type": "execute_result"
    },
    {
     "data": {
      "image/png": "[encoded data removed]",
      "text/plain": [
       "<Figure size 720x360 with 1 Axes>"
      ]
     },
     "metadata": {
      "needs_background": "light"
     },
     "output_type": "display_data"
    }
   ],
   "source": [
    "#Distribution of the reviews by year\n",
    "def take_year(yr):\n",
    "    temp =yr.split(',')\n",
    "    return temp[1]\n",
    "\n",
    "df['year'] = df.apply(lambda row: take_year(row['reviewTime']), axis=1)\n",
    "\n",
    "yrs = df['year'].value_counts()\n",
    "\n",
    "\n",
    "plt.figure(figsize=(10,5))\n",
    "plt.bar(yrs.index, yrs.values)\n",
    "plt.title('Distribution of the reviews by year')\n",
    "plt.xlabel('Year')\n",
    "plt.ylabel('total number of reviews')\n"
   ]
  },
  {
   "cell_type": "markdown",
   "id": "2e094003",
   "metadata": {},
   "source": [
    "'''\n",
    "From the bar chart, reviews on the products had been increased as the year passed.\n",
    "These can be happened due to several reasons for example,\n",
    "1. Number of products might have increased.\n",
    "2. Number of users might have increased.\n",
    "'''"
   ]
  },
  {
   "cell_type": "code",
   "execution_count": 22,
   "id": "2eae27e1",
   "metadata": {
    "scrolled": true
   },
   "outputs": [
    {
     "data": {
      "image/png": "[encoded data removed]",
      "text/plain": [
       "<Figure size 432x288 with 1 Axes>"
      ]
     },
     "metadata": {
      "needs_background": "light"
     },
     "output_type": "display_data"
    }
   ],
   "source": [
    "from collections import  Counter\n",
    "\n",
    "def plot_top_non_stopwords_barchart(text):\n",
    "    stop=set(stopwords.words('english'))\n",
    "    \n",
    "    new= text.str.split()\n",
    "    new=new.values.tolist()\n",
    "    corpus=[word for i in new for word in i]\n",
    "\n",
    "    counter=Counter(corpus)\n",
    "    most=counter.most_common()\n",
    "    x, y=[], []\n",
    "    for word,count in most[:40]:\n",
    "        if (word not in stop):\n",
    "            x.append(word)\n",
    "            y.append(count)\n",
    "            \n",
    "    sns.barplot(x=y,y=x)\n",
    "    plt.title('Top 10 frequent words in corpus')\n",
    "    plt.xlabel('Frequency')\n",
    "    plt.ylabel('Words')\n",
    "    \n",
    "plot_top_non_stopwords_barchart(df['reviewText'])\n"
   ]
  },
  {
   "cell_type": "markdown",
   "id": "0239d9d0",
   "metadata": {},
   "source": [
    "'''\n",
    "Frequently occurring words are shown in the above graph and ‘I’ is occurring the\n",
    "highest number of times around 1,75,000 times.\n",
    "Other top frequent words are The, use, like, one, it, and printer\n",
    "'''"
   ]
  },
  {
   "cell_type": "code",
   "execution_count": 23,
   "id": "64f0d4f7",
   "metadata": {},
   "outputs": [
    {
     "name": "stderr",
     "output_type": "stream",
     "text": [
      "[nltk_data] Downloading package stopwords to\n",
      "[nltk_data]     C:\\Users\\abhip\\AppData\\Roaming\\nltk_data...\n",
      "[nltk_data]   Package stopwords is already up-to-date!\n"
     ]
    },
    {
     "data": {
      "image/png": "[encoded data removed]",
      "text/plain": [
       "<Figure size 864x864 with 1 Axes>"
      ]
     },
     "metadata": {
      "needs_background": "light"
     },
     "output_type": "display_data"
    }
   ],
   "source": [
    "from nltk.corpus import stopwords\n",
    "from nltk.stem import WordNetLemmatizer,PorterStemmer\n",
    "from nltk.tokenize import word_tokenize\n",
    "from wordcloud import WordCloud, STOPWORDS\n",
    "import nltk\n",
    "\n",
    "nltk.download('stopwords')\n",
    "stop=set(stopwords.words('english'))\n",
    "def plot_wordcloud(text):\n",
    "\n",
    "\n",
    "    def _preprocess_text(text):\n",
    "        corpus=[]\n",
    "        stem=PorterStemmer()\n",
    "        lem=WordNetLemmatizer()\n",
    "        for news in text:\n",
    "            words=[w for w in word_tokenize(news) if (w not in stop)]\n",
    "\n",
    "            words=[lem.lemmatize(w) for w in words if len(w)>2]\n",
    "\n",
    "            corpus.append(words)\n",
    "        return corpus\n",
    "    \n",
    "    corpus=_preprocess_text(text)\n",
    "    \n",
    "    wordcloud = WordCloud(\n",
    "        background_color='white',\n",
    "        stopwords=set(STOPWORDS),\n",
    "        max_words=100,\n",
    "        max_font_size=30, \n",
    "        scale=3,\n",
    "        random_state=1)\n",
    "    \n",
    "    wordcloud=wordcloud.generate(str(corpus))\n",
    "\n",
    "    fig = plt.figure(1, figsize=(12, 12))\n",
    "    plt.axis('off')\n",
    " \n",
    "    plt.imshow(wordcloud)\n",
    "    plt.show()\n",
    "    \n",
    "plot_wordcloud(df['reviewText'])\n"
   ]
  },
  {
   "cell_type": "markdown",
   "id": "454e1102",
   "metadata": {},
   "source": [
    "'''Above picture shows more top frequent words in the corpus. '''"
   ]
  },
  {
   "cell_type": "markdown",
   "id": "2aa0f679",
   "metadata": {},
   "source": [
    "## 2. Text basic pre-processing"
   ]
  },
  {
   "cell_type": "code",
   "execution_count": 15,
   "id": "ce85308e",
   "metadata": {},
   "outputs": [],
   "source": [
    "df_sample = df.copy()"
   ]
  },
  {
   "cell_type": "code",
   "execution_count": 16,
   "id": "82457205",
   "metadata": {},
   "outputs": [
    {
     "data": {
      "text/plain": [
       "(53258, 11)"
      ]
     },
     "execution_count": 16,
     "metadata": {},
     "output_type": "execute_result"
    }
   ],
   "source": [
    "df_sample.shape"
   ]
  },
  {
   "cell_type": "code",
   "execution_count": 17,
   "id": "05c5a591",
   "metadata": {},
   "outputs": [
    {
     "data": {
      "text/plain": [
       "5    30327\n",
       "4    15015\n",
       "3     5060\n",
       "2     1726\n",
       "1     1130\n",
       "Name: overall, dtype: int64"
      ]
     },
     "execution_count": 17,
     "metadata": {},
     "output_type": "execute_result"
    }
   ],
   "source": [
    "df_sample['overall'].value_counts()"
   ]
  },
  {
   "cell_type": "code",
   "execution_count": 18,
   "id": "421ae0ac",
   "metadata": {},
   "outputs": [],
   "source": [
    "'''\n",
    "b. Label data based on the value of “rating of the product” i.e. as follows:\n",
    "i. Ratings 4,5: Positive\n",
    "ii. Rating 3: Neutral\n",
    "iii. Ratings 1,2: Negative\n",
    "'''\n",
    "\n",
    "def label_data(rating):\n",
    "    if rating >3:\n",
    "        return 'Positive'\n",
    "    elif rating == 3:\n",
    "        return 'Neutral'\n",
    "    else:\n",
    "        return 'Negative'"
   ]
  },
  {
   "cell_type": "code",
   "execution_count": 19,
   "id": "f9335b65",
   "metadata": {},
   "outputs": [],
   "source": [
    "df_sample['label'] = df_sample.apply(lambda row: label_data(row['overall']), axis=1)\n"
   ]
  },
  {
   "cell_type": "code",
   "execution_count": 20,
   "id": "8d2712a4",
   "metadata": {},
   "outputs": [
    {
     "data": {
      "text/html": [
       "<div>\n",
       "<style scoped>\n",
       "    .dataframe tbody tr th:only-of-type {\n",
       "        vertical-align: middle;\n",
       "    }\n",
       "\n",
       "    .dataframe tbody tr th {\n",
       "        vertical-align: top;\n",
       "    }\n",
       "\n",
       "    .dataframe thead th {\n",
       "        text-align: right;\n",
       "    }\n",
       "</style>\n",
       "<table border=\"1\" class=\"dataframe\">\n",
       "  <thead>\n",
       "    <tr style=\"text-align: right;\">\n",
       "      <th></th>\n",
       "      <th>reviewerID</th>\n",
       "      <th>asin</th>\n",
       "      <th>reviewerName</th>\n",
       "      <th>helpful</th>\n",
       "      <th>reviewText</th>\n",
       "      <th>overall</th>\n",
       "      <th>summary</th>\n",
       "      <th>unixReviewTime</th>\n",
       "      <th>reviewTime</th>\n",
       "      <th>len_review</th>\n",
       "      <th>len_summary</th>\n",
       "      <th>label</th>\n",
       "    </tr>\n",
       "  </thead>\n",
       "  <tbody>\n",
       "    <tr>\n",
       "      <th>0</th>\n",
       "      <td>A32T2H8150OJLU</td>\n",
       "      <td>B00000JBLH</td>\n",
       "      <td>ARH</td>\n",
       "      <td>[3, 4]</td>\n",
       "      <td>I bought my first HP12C in about 1984 or so, a...</td>\n",
       "      <td>5</td>\n",
       "      <td>A solid performer, and long time friend</td>\n",
       "      <td>1094169600</td>\n",
       "      <td>09 3, 2004</td>\n",
       "      <td>972</td>\n",
       "      <td>39</td>\n",
       "      <td>Positive</td>\n",
       "    </tr>\n",
       "    <tr>\n",
       "      <th>1</th>\n",
       "      <td>A3MAFS04ZABRGO</td>\n",
       "      <td>B00000JBLH</td>\n",
       "      <td>Let it Be \"Alan\"</td>\n",
       "      <td>[7, 9]</td>\n",
       "      <td>WHY THIS BELATED REVIEW? I feel very obliged t...</td>\n",
       "      <td>5</td>\n",
       "      <td>Price of GOLD is up, so don't bury the golden ...</td>\n",
       "      <td>1197676800</td>\n",
       "      <td>12 15, 2007</td>\n",
       "      <td>5355</td>\n",
       "      <td>62</td>\n",
       "      <td>Positive</td>\n",
       "    </tr>\n",
       "    <tr>\n",
       "      <th>2</th>\n",
       "      <td>A1F1A0QQP2XVH5</td>\n",
       "      <td>B00000JBLH</td>\n",
       "      <td>Mark B</td>\n",
       "      <td>[3, 3]</td>\n",
       "      <td>I have an HP 48GX that has been kicking for mo...</td>\n",
       "      <td>2</td>\n",
       "      <td>Good functionality, but not durable like old HPs</td>\n",
       "      <td>1293840000</td>\n",
       "      <td>01 1, 2011</td>\n",
       "      <td>495</td>\n",
       "      <td>48</td>\n",
       "      <td>Negative</td>\n",
       "    </tr>\n",
       "    <tr>\n",
       "      <th>3</th>\n",
       "      <td>A49R5DBXXQDE5</td>\n",
       "      <td>B00000JBLH</td>\n",
       "      <td>R. D Johnson</td>\n",
       "      <td>[7, 8]</td>\n",
       "      <td>I've started doing more finance stuff recently...</td>\n",
       "      <td>5</td>\n",
       "      <td>One of the last of an almost extinct species</td>\n",
       "      <td>1145404800</td>\n",
       "      <td>04 19, 2006</td>\n",
       "      <td>3648</td>\n",
       "      <td>44</td>\n",
       "      <td>Positive</td>\n",
       "    </tr>\n",
       "    <tr>\n",
       "      <th>4</th>\n",
       "      <td>A2XRMQA6PJ5ZJ8</td>\n",
       "      <td>B00000JBLH</td>\n",
       "      <td>Roger J. Buffington</td>\n",
       "      <td>[0, 0]</td>\n",
       "      <td>For simple calculations and discounted cash fl...</td>\n",
       "      <td>5</td>\n",
       "      <td>Still the best</td>\n",
       "      <td>1375574400</td>\n",
       "      <td>08 4, 2013</td>\n",
       "      <td>704</td>\n",
       "      <td>14</td>\n",
       "      <td>Positive</td>\n",
       "    </tr>\n",
       "  </tbody>\n",
       "</table>\n",
       "</div>"
      ],
      "text/plain": [
       "       reviewerID        asin         reviewerName helpful  \\\n",
       "0  A32T2H8150OJLU  B00000JBLH                  ARH  [3, 4]   \n",
       "1  A3MAFS04ZABRGO  B00000JBLH     Let it Be \"Alan\"  [7, 9]   \n",
       "2  A1F1A0QQP2XVH5  B00000JBLH               Mark B  [3, 3]   \n",
       "3   A49R5DBXXQDE5  B00000JBLH         R. D Johnson  [7, 8]   \n",
       "4  A2XRMQA6PJ5ZJ8  B00000JBLH  Roger J. Buffington  [0, 0]   \n",
       "\n",
       "                                          reviewText  overall  \\\n",
       "0  I bought my first HP12C in about 1984 or so, a...        5   \n",
       "1  WHY THIS BELATED REVIEW? I feel very obliged t...        5   \n",
       "2  I have an HP 48GX that has been kicking for mo...        2   \n",
       "3  I've started doing more finance stuff recently...        5   \n",
       "4  For simple calculations and discounted cash fl...        5   \n",
       "\n",
       "                                             summary  unixReviewTime  \\\n",
       "0            A solid performer, and long time friend      1094169600   \n",
       "1  Price of GOLD is up, so don't bury the golden ...      1197676800   \n",
       "2   Good functionality, but not durable like old HPs      1293840000   \n",
       "3       One of the last of an almost extinct species      1145404800   \n",
       "4                                     Still the best      1375574400   \n",
       "\n",
       "    reviewTime  len_review  len_summary     label  \n",
       "0   09 3, 2004         972           39  Positive  \n",
       "1  12 15, 2007        5355           62  Positive  \n",
       "2   01 1, 2011         495           48  Negative  \n",
       "3  04 19, 2006        3648           44  Positive  \n",
       "4   08 4, 2013         704           14  Positive  "
      ]
     },
     "execution_count": 20,
     "metadata": {},
     "output_type": "execute_result"
    }
   ],
   "source": [
    "df_sample.head(5)"
   ]
  },
  {
   "cell_type": "code",
   "execution_count": 21,
   "id": "010426a8",
   "metadata": {},
   "outputs": [
    {
     "data": {
      "text/plain": [
       "Positive    45342\n",
       "Neutral      5060\n",
       "Negative     2856\n",
       "Name: label, dtype: int64"
      ]
     },
     "execution_count": 21,
     "metadata": {},
     "output_type": "execute_result"
    }
   ],
   "source": [
    "df_sample['label'].value_counts()"
   ]
  },
  {
   "cell_type": "code",
   "execution_count": 22,
   "id": "00ec729a",
   "metadata": {},
   "outputs": [],
   "source": [
    "#c. Chose the appropriate columns for your sentiment analyzer. \n",
    "\n",
    "df_sample = df_sample[['reviewerID', 'asin','reviewText','summary','overall','label']]"
   ]
  },
  {
   "cell_type": "code",
   "execution_count": 23,
   "id": "d4908c47",
   "metadata": {},
   "outputs": [],
   "source": [
    "# merging two columns 'reviewText' and 'Summary' to create better corpus of reviews\n",
    "df_sample['final_text'] = df_sample['reviewText'] + ' ' + df['summary']"
   ]
  },
  {
   "cell_type": "code",
   "execution_count": 24,
   "id": "0a4ade6a",
   "metadata": {},
   "outputs": [
    {
     "data": {
      "text/html": [
       "<div>\n",
       "<style scoped>\n",
       "    .dataframe tbody tr th:only-of-type {\n",
       "        vertical-align: middle;\n",
       "    }\n",
       "\n",
       "    .dataframe tbody tr th {\n",
       "        vertical-align: top;\n",
       "    }\n",
       "\n",
       "    .dataframe thead th {\n",
       "        text-align: right;\n",
       "    }\n",
       "</style>\n",
       "<table border=\"1\" class=\"dataframe\">\n",
       "  <thead>\n",
       "    <tr style=\"text-align: right;\">\n",
       "      <th></th>\n",
       "      <th>reviewText</th>\n",
       "      <th>summary</th>\n",
       "      <th>final_text</th>\n",
       "    </tr>\n",
       "  </thead>\n",
       "  <tbody>\n",
       "    <tr>\n",
       "      <th>0</th>\n",
       "      <td>I bought my first HP12C in about 1984 or so, a...</td>\n",
       "      <td>A solid performer, and long time friend</td>\n",
       "      <td>I bought my first HP12C in about 1984 or so, a...</td>\n",
       "    </tr>\n",
       "    <tr>\n",
       "      <th>1</th>\n",
       "      <td>WHY THIS BELATED REVIEW? I feel very obliged t...</td>\n",
       "      <td>Price of GOLD is up, so don't bury the golden ...</td>\n",
       "      <td>WHY THIS BELATED REVIEW? I feel very obliged t...</td>\n",
       "    </tr>\n",
       "    <tr>\n",
       "      <th>2</th>\n",
       "      <td>I have an HP 48GX that has been kicking for mo...</td>\n",
       "      <td>Good functionality, but not durable like old HPs</td>\n",
       "      <td>I have an HP 48GX that has been kicking for mo...</td>\n",
       "    </tr>\n",
       "    <tr>\n",
       "      <th>3</th>\n",
       "      <td>I've started doing more finance stuff recently...</td>\n",
       "      <td>One of the last of an almost extinct species</td>\n",
       "      <td>I've started doing more finance stuff recently...</td>\n",
       "    </tr>\n",
       "    <tr>\n",
       "      <th>4</th>\n",
       "      <td>For simple calculations and discounted cash fl...</td>\n",
       "      <td>Still the best</td>\n",
       "      <td>For simple calculations and discounted cash fl...</td>\n",
       "    </tr>\n",
       "  </tbody>\n",
       "</table>\n",
       "</div>"
      ],
      "text/plain": [
       "                                          reviewText  \\\n",
       "0  I bought my first HP12C in about 1984 or so, a...   \n",
       "1  WHY THIS BELATED REVIEW? I feel very obliged t...   \n",
       "2  I have an HP 48GX that has been kicking for mo...   \n",
       "3  I've started doing more finance stuff recently...   \n",
       "4  For simple calculations and discounted cash fl...   \n",
       "\n",
       "                                             summary  \\\n",
       "0            A solid performer, and long time friend   \n",
       "1  Price of GOLD is up, so don't bury the golden ...   \n",
       "2   Good functionality, but not durable like old HPs   \n",
       "3       One of the last of an almost extinct species   \n",
       "4                                     Still the best   \n",
       "\n",
       "                                          final_text  \n",
       "0  I bought my first HP12C in about 1984 or so, a...  \n",
       "1  WHY THIS BELATED REVIEW? I feel very obliged t...  \n",
       "2  I have an HP 48GX that has been kicking for mo...  \n",
       "3  I've started doing more finance stuff recently...  \n",
       "4  For simple calculations and discounted cash fl...  "
      ]
     },
     "execution_count": 24,
     "metadata": {},
     "output_type": "execute_result"
    }
   ],
   "source": [
    "#pd.set_option('display.max_colwidth', -1)\n",
    "#pd.set_option('display.max_rows', 50)\n",
    "\n",
    "df_sample[['reviewText','summary','final_text']].head()"
   ]
  },
  {
   "cell_type": "markdown",
   "id": "387d874e",
   "metadata": {},
   "source": [
    "### 3 Data Clean-up"
   ]
  },
  {
   "cell_type": "markdown",
   "id": "61774acd",
   "metadata": {},
   "source": [
    "Implemeting some Text clean-up steps will help model to generate better results and also decrease training and processing time"
   ]
  },
  {
   "cell_type": "code",
   "execution_count": 25,
   "id": "64c61d8c",
   "metadata": {},
   "outputs": [],
   "source": [
    "'''\n",
    "1) Lowercasing = This clean- up steps converts all words in lowercase. \n",
    "This will help to create better text representation using TF-IDF vector (Upcoming section)\n",
    "It will also decrease total number of unique words that will decrease dimension of training data and will improve efficiency \n",
    "\n",
    "''' \n",
    "\n",
    "df_sample['final_text'] = df_sample['final_text'].str.lower()"
   ]
  },
  {
   "cell_type": "code",
   "execution_count": 26,
   "id": "59502540",
   "metadata": {
    "scrolled": true
   },
   "outputs": [
    {
     "data": {
      "text/html": [
       "<div>\n",
       "<style scoped>\n",
       "    .dataframe tbody tr th:only-of-type {\n",
       "        vertical-align: middle;\n",
       "    }\n",
       "\n",
       "    .dataframe tbody tr th {\n",
       "        vertical-align: top;\n",
       "    }\n",
       "\n",
       "    .dataframe thead th {\n",
       "        text-align: right;\n",
       "    }\n",
       "</style>\n",
       "<table border=\"1\" class=\"dataframe\">\n",
       "  <thead>\n",
       "    <tr style=\"text-align: right;\">\n",
       "      <th></th>\n",
       "      <th>reviewerID</th>\n",
       "      <th>asin</th>\n",
       "      <th>reviewText</th>\n",
       "      <th>summary</th>\n",
       "      <th>overall</th>\n",
       "      <th>label</th>\n",
       "      <th>final_text</th>\n",
       "    </tr>\n",
       "  </thead>\n",
       "  <tbody>\n",
       "    <tr>\n",
       "      <th>0</th>\n",
       "      <td>A32T2H8150OJLU</td>\n",
       "      <td>B00000JBLH</td>\n",
       "      <td>I bought my first HP12C in about 1984 or so, a...</td>\n",
       "      <td>A solid performer, and long time friend</td>\n",
       "      <td>5</td>\n",
       "      <td>Positive</td>\n",
       "      <td>i bought my first hp12c in about 1984 or so, a...</td>\n",
       "    </tr>\n",
       "    <tr>\n",
       "      <th>1</th>\n",
       "      <td>A3MAFS04ZABRGO</td>\n",
       "      <td>B00000JBLH</td>\n",
       "      <td>WHY THIS BELATED REVIEW? I feel very obliged t...</td>\n",
       "      <td>Price of GOLD is up, so don't bury the golden ...</td>\n",
       "      <td>5</td>\n",
       "      <td>Positive</td>\n",
       "      <td>why this belated review? i feel very obliged t...</td>\n",
       "    </tr>\n",
       "    <tr>\n",
       "      <th>2</th>\n",
       "      <td>A1F1A0QQP2XVH5</td>\n",
       "      <td>B00000JBLH</td>\n",
       "      <td>I have an HP 48GX that has been kicking for mo...</td>\n",
       "      <td>Good functionality, but not durable like old HPs</td>\n",
       "      <td>2</td>\n",
       "      <td>Negative</td>\n",
       "      <td>i have an hp 48gx that has been kicking for mo...</td>\n",
       "    </tr>\n",
       "  </tbody>\n",
       "</table>\n",
       "</div>"
      ],
      "text/plain": [
       "       reviewerID        asin  \\\n",
       "0  A32T2H8150OJLU  B00000JBLH   \n",
       "1  A3MAFS04ZABRGO  B00000JBLH   \n",
       "2  A1F1A0QQP2XVH5  B00000JBLH   \n",
       "\n",
       "                                          reviewText  \\\n",
       "0  I bought my first HP12C in about 1984 or so, a...   \n",
       "1  WHY THIS BELATED REVIEW? I feel very obliged t...   \n",
       "2  I have an HP 48GX that has been kicking for mo...   \n",
       "\n",
       "                                             summary  overall     label  \\\n",
       "0            A solid performer, and long time friend        5  Positive   \n",
       "1  Price of GOLD is up, so don't bury the golden ...        5  Positive   \n",
       "2   Good functionality, but not durable like old HPs        2  Negative   \n",
       "\n",
       "                                          final_text  \n",
       "0  i bought my first hp12c in about 1984 or so, a...  \n",
       "1  why this belated review? i feel very obliged t...  \n",
       "2  i have an hp 48gx that has been kicking for mo...  "
      ]
     },
     "execution_count": 26,
     "metadata": {},
     "output_type": "execute_result"
    }
   ],
   "source": [
    "df_sample.head(3)"
   ]
  },
  {
   "cell_type": "code",
   "execution_count": 27,
   "id": "8a8ab3ec",
   "metadata": {},
   "outputs": [],
   "source": [
    "'''\n",
    "2) Remove puncutations - This step removes puncutation from reviews\n",
    "It will decrease unique number of words and improve efficiency\n",
    "\n",
    "'''\n",
    "\n",
    "df_sample['final_text'] = df_sample['final_text'].str.replace('[^\\w\\s]','', regex=True)"
   ]
  },
  {
   "cell_type": "code",
   "execution_count": 28,
   "id": "02c6a8fd",
   "metadata": {},
   "outputs": [
    {
     "data": {
      "text/html": [
       "<div>\n",
       "<style scoped>\n",
       "    .dataframe tbody tr th:only-of-type {\n",
       "        vertical-align: middle;\n",
       "    }\n",
       "\n",
       "    .dataframe tbody tr th {\n",
       "        vertical-align: top;\n",
       "    }\n",
       "\n",
       "    .dataframe thead th {\n",
       "        text-align: right;\n",
       "    }\n",
       "</style>\n",
       "<table border=\"1\" class=\"dataframe\">\n",
       "  <thead>\n",
       "    <tr style=\"text-align: right;\">\n",
       "      <th></th>\n",
       "      <th>reviewerID</th>\n",
       "      <th>asin</th>\n",
       "      <th>reviewText</th>\n",
       "      <th>summary</th>\n",
       "      <th>overall</th>\n",
       "      <th>label</th>\n",
       "      <th>final_text</th>\n",
       "    </tr>\n",
       "  </thead>\n",
       "  <tbody>\n",
       "    <tr>\n",
       "      <th>0</th>\n",
       "      <td>A32T2H8150OJLU</td>\n",
       "      <td>B00000JBLH</td>\n",
       "      <td>I bought my first HP12C in about 1984 or so, a...</td>\n",
       "      <td>A solid performer, and long time friend</td>\n",
       "      <td>5</td>\n",
       "      <td>Positive</td>\n",
       "      <td>i bought my first hp12c in about 1984 or so an...</td>\n",
       "    </tr>\n",
       "    <tr>\n",
       "      <th>1</th>\n",
       "      <td>A3MAFS04ZABRGO</td>\n",
       "      <td>B00000JBLH</td>\n",
       "      <td>WHY THIS BELATED REVIEW? I feel very obliged t...</td>\n",
       "      <td>Price of GOLD is up, so don't bury the golden ...</td>\n",
       "      <td>5</td>\n",
       "      <td>Positive</td>\n",
       "      <td>why this belated review i feel very obliged to...</td>\n",
       "    </tr>\n",
       "    <tr>\n",
       "      <th>2</th>\n",
       "      <td>A1F1A0QQP2XVH5</td>\n",
       "      <td>B00000JBLH</td>\n",
       "      <td>I have an HP 48GX that has been kicking for mo...</td>\n",
       "      <td>Good functionality, but not durable like old HPs</td>\n",
       "      <td>2</td>\n",
       "      <td>Negative</td>\n",
       "      <td>i have an hp 48gx that has been kicking for mo...</td>\n",
       "    </tr>\n",
       "  </tbody>\n",
       "</table>\n",
       "</div>"
      ],
      "text/plain": [
       "       reviewerID        asin  \\\n",
       "0  A32T2H8150OJLU  B00000JBLH   \n",
       "1  A3MAFS04ZABRGO  B00000JBLH   \n",
       "2  A1F1A0QQP2XVH5  B00000JBLH   \n",
       "\n",
       "                                          reviewText  \\\n",
       "0  I bought my first HP12C in about 1984 or so, a...   \n",
       "1  WHY THIS BELATED REVIEW? I feel very obliged t...   \n",
       "2  I have an HP 48GX that has been kicking for mo...   \n",
       "\n",
       "                                             summary  overall     label  \\\n",
       "0            A solid performer, and long time friend        5  Positive   \n",
       "1  Price of GOLD is up, so don't bury the golden ...        5  Positive   \n",
       "2   Good functionality, but not durable like old HPs        2  Negative   \n",
       "\n",
       "                                          final_text  \n",
       "0  i bought my first hp12c in about 1984 or so an...  \n",
       "1  why this belated review i feel very obliged to...  \n",
       "2  i have an hp 48gx that has been kicking for mo...  "
      ]
     },
     "execution_count": 28,
     "metadata": {},
     "output_type": "execute_result"
    }
   ],
   "source": [
    "df_sample.head(3)"
   ]
  },
  {
   "cell_type": "code",
   "execution_count": 29,
   "id": "50fd3e25",
   "metadata": {},
   "outputs": [],
   "source": [
    "'''\n",
    "3) Remove Stopwords excluding negation words = This clean-step removes English grammer words that are not going to\n",
    "provide any pattern or knowledge while training ML model.\n",
    "    THis will help to train better model and also decrease processing time\n",
    "\n",
    "'''\n",
    "\n",
    "from nltk.corpus import stopwords\n",
    "stops = set(stopwords.words('english'))\n",
    "\n",
    "#Modifying set to stopwords: excluding stopwords that contains 'n' in its spelling. So that, while removing stopwords \n",
    "#from the corpus, it does not remove words that has 'n' in it. for example, wasn't, shouldn't, not, don'ts \n",
    "stops_new = [i for i in stops if \"n\"  not in i]"
   ]
  },
  {
   "cell_type": "code",
   "execution_count": 30,
   "id": "ffd8639d",
   "metadata": {},
   "outputs": [
    {
     "data": {
      "text/plain": [
       "[\"that'll\",\n",
       " 'above',\n",
       " 'here',\n",
       " 'be',\n",
       " 'do',\n",
       " 'them',\n",
       " 'the',\n",
       " 'such',\n",
       " 'if',\n",
       " 'where',\n",
       " 'theirs',\n",
       " 'below',\n",
       " 'our',\n",
       " 'most',\n",
       " 'themselves',\n",
       " 'this',\n",
       " \"you'd\",\n",
       " 'very',\n",
       " 'your',\n",
       " 'was',\n",
       " 'its',\n",
       " 'my',\n",
       " 'how',\n",
       " 't',\n",
       " 'does',\n",
       " 'a',\n",
       " \"it's\",\n",
       " 'm',\n",
       " 's',\n",
       " 'those',\n",
       " 'up',\n",
       " 'which',\n",
       " 'ourselves',\n",
       " 'both',\n",
       " \"she's\",\n",
       " 'over',\n",
       " 'so',\n",
       " 'yours',\n",
       " 'of',\n",
       " 'you',\n",
       " 'there',\n",
       " 'at',\n",
       " 'had',\n",
       " 'more',\n",
       " 'about',\n",
       " 'itself',\n",
       " 'as',\n",
       " 'but',\n",
       " 'o',\n",
       " 'his',\n",
       " 'before',\n",
       " 'will',\n",
       " 'i',\n",
       " 'out',\n",
       " 're',\n",
       " 'with',\n",
       " 'she',\n",
       " 'whom',\n",
       " 'he',\n",
       " 'ours',\n",
       " 'yourself',\n",
       " 'these',\n",
       " 'did',\n",
       " 'too',\n",
       " 'her',\n",
       " 'their',\n",
       " 'some',\n",
       " 'myself',\n",
       " 'each',\n",
       " \"you'll\",\n",
       " 'after',\n",
       " 'same',\n",
       " 'they',\n",
       " 'what',\n",
       " 'other',\n",
       " 'through',\n",
       " 'herself',\n",
       " 'should',\n",
       " 'are',\n",
       " 'all',\n",
       " 'it',\n",
       " 'because',\n",
       " 'am',\n",
       " 'or',\n",
       " 'have',\n",
       " 'hers',\n",
       " 'himself',\n",
       " 'y',\n",
       " 'ma',\n",
       " 'few',\n",
       " 'further',\n",
       " \"you've\",\n",
       " 'by',\n",
       " 'were',\n",
       " 'who',\n",
       " \"should've\",\n",
       " 'has',\n",
       " 'from',\n",
       " 'him',\n",
       " 'just',\n",
       " 'is',\n",
       " 'we',\n",
       " \"you're\",\n",
       " 'for',\n",
       " 'while',\n",
       " 'why',\n",
       " 'that',\n",
       " 'd',\n",
       " 'me',\n",
       " 'to',\n",
       " 've',\n",
       " 'll',\n",
       " 'yourselves',\n",
       " 'off']"
      ]
     },
     "execution_count": 30,
     "metadata": {},
     "output_type": "execute_result"
    }
   ],
   "source": [
    "stops_new"
   ]
  },
  {
   "cell_type": "code",
   "execution_count": 31,
   "id": "516a5e28",
   "metadata": {},
   "outputs": [],
   "source": [
    "df_sample['final_text'] = df_sample['final_text'].apply(lambda x : ' '.join([word for word in x.split() if word not in (stops_new)]))"
   ]
  },
  {
   "cell_type": "code",
   "execution_count": 57,
   "id": "a1df6bfb",
   "metadata": {},
   "outputs": [
    {
     "name": "stderr",
     "output_type": "stream",
     "text": [
      "C:\\Users\\abhip\\AppData\\Local\\Temp/ipykernel_2476/1719832526.py:1: FutureWarning: Passing a negative integer is deprecated in version 1.0 and will not be supported in future version. Instead, use None to not limit the column width.\n",
      "  pd.set_option('display.max_colwidth', -1)\n"
     ]
    },
    {
     "data": {
      "text/html": [
       "<div>\n",
       "<style scoped>\n",
       "    .dataframe tbody tr th:only-of-type {\n",
       "        vertical-align: middle;\n",
       "    }\n",
       "\n",
       "    .dataframe tbody tr th {\n",
       "        vertical-align: top;\n",
       "    }\n",
       "\n",
       "    .dataframe thead th {\n",
       "        text-align: right;\n",
       "    }\n",
       "</style>\n",
       "<table border=\"1\" class=\"dataframe\">\n",
       "  <thead>\n",
       "    <tr style=\"text-align: right;\">\n",
       "      <th></th>\n",
       "      <th>final_text</th>\n",
       "    </tr>\n",
       "  </thead>\n",
       "  <tbody>\n",
       "    <tr>\n",
       "      <th>27541</th>\n",
       "      <td>wifeour family using hang childrens artwork work wonderfully clean and reuse instruction work perfectly removing hasnt torn anything left any mark on wall pretty impressive given easily construction paper tear seems pretty strong havent used large poster expect would work well simplifies hanging and rehanging paper</td>\n",
       "    </tr>\n",
       "    <tr>\n",
       "      <th>40971</th>\n",
       "      <td>product try much and really fails anything well removable binder clunky best and doesnt work well either binder when removed outer jacket flexy plastic material not hard cover would expect on binder and thus lack protection and durability real binder pocket in jacket useful would even useful jacket padded hardcover not flexy soft shell really made 2 separate product and without binder feature since removable binder barely work worst world awkward flexy binder</td>\n",
       "    </tr>\n",
       "    <tr>\n",
       "      <th>40579</th>\n",
       "      <td>six year old and installed new epson printer and im definitely no computer genius easy say least thing quite large expected printer can print 13x19 copy finding perfect place put took rearranging furniture six step setup process easy weve bad experience in past trying use installation cd come device went straight epson website downloaded and installed printer driver no problem printer us one black and three color ink cartridge color one look half size blackthe printer only come power cable provide own usb cable connect computer own ethernet cable networking luckily usb cable amongst year saving cable devicesweve made test page and extremely pleased copy crisp even on cheaper copy paper weve found much cost effective print photo an online site and pick in store opposed buying photo quality paper and ink cartridge on top ink cartridgesmany crafting friend different model workforce im planning on using mine in concert craft hobby printing image on fabric printable vinyl and transfer paper able print on fabric ease ironing freezer paper onto back and printing on regular setting planning on using craft need know side printer print on paper default print face down needed know print on fabric and figure marking paper and testing would know print on transfer paper well uploaded picture printer and printed fabric show large and well fabric turned im extremely happy printer already and cant wait try everything else possibly can on excellent printer crafting need</td>\n",
       "    </tr>\n",
       "  </tbody>\n",
       "</table>\n",
       "</div>"
      ],
      "text/plain": [
       "                                                                                                                                                                                                                                                                                                                                                                                                                                                                                                                                                                                                                                                                                                                                                                                                                                                                                                                                                                                                                                                                                                                                                                                                                                                                                                                                                                                                                                                                                                                                 final_text\n",
       "27541  wifeour family using hang childrens artwork work wonderfully clean and reuse instruction work perfectly removing hasnt torn anything left any mark on wall pretty impressive given easily construction paper tear seems pretty strong havent used large poster expect would work well simplifies hanging and rehanging paper                                                                                                                                                                                                                                                                                                                                                                                                                                                                                                                                                                                                                                                                                                                                                                                                                                                                                                                                                                                                                                                                                                                                                                                                        \n",
       "40971  product try much and really fails anything well removable binder clunky best and doesnt work well either binder when removed outer jacket flexy plastic material not hard cover would expect on binder and thus lack protection and durability real binder pocket in jacket useful would even useful jacket padded hardcover not flexy soft shell really made 2 separate product and without binder feature since removable binder barely work worst world awkward flexy binder                                                                                                                                                                                                                                                                                                                                                                                                                                                                                                                                                                                                                                                                                                                                                                                                                                                                                                                                                                                                                                                     \n",
       "40579  six year old and installed new epson printer and im definitely no computer genius easy say least thing quite large expected printer can print 13x19 copy finding perfect place put took rearranging furniture six step setup process easy weve bad experience in past trying use installation cd come device went straight epson website downloaded and installed printer driver no problem printer us one black and three color ink cartridge color one look half size blackthe printer only come power cable provide own usb cable connect computer own ethernet cable networking luckily usb cable amongst year saving cable devicesweve made test page and extremely pleased copy crisp even on cheaper copy paper weve found much cost effective print photo an online site and pick in store opposed buying photo quality paper and ink cartridge on top ink cartridgesmany crafting friend different model workforce im planning on using mine in concert craft hobby printing image on fabric printable vinyl and transfer paper able print on fabric ease ironing freezer paper onto back and printing on regular setting planning on using craft need know side printer print on paper default print face down needed know print on fabric and figure marking paper and testing would know print on transfer paper well uploaded picture printer and printed fabric show large and well fabric turned im extremely happy printer already and cant wait try everything else possibly can on excellent printer crafting need"
      ]
     },
     "execution_count": 57,
     "metadata": {},
     "output_type": "execute_result"
    }
   ],
   "source": [
    "pd.set_option('display.max_colwidth', -1)\n",
    "pd.set_option('display.max_rows', 50)\n",
    "\n",
    "df_sample[['final_text']].head(3)"
   ]
  },
  {
   "cell_type": "code",
   "execution_count": 33,
   "id": "bf87a86d",
   "metadata": {},
   "outputs": [],
   "source": [
    "'''\n",
    "4) Lemmitization = This step converts words in the reviews to its base words\n",
    "It improves efficiency further and decrease dimension of TF-IDF vector\n",
    "\n",
    "'''\n",
    "\n",
    "from nltk.stem import WordNetLemmatizer\n",
    "lemmatizer = WordNetLemmatizer()"
   ]
  },
  {
   "cell_type": "code",
   "execution_count": 34,
   "id": "6fa6ed78",
   "metadata": {},
   "outputs": [],
   "source": [
    "df_sample['final_text'] = df_sample['final_text'].apply(lambda x : ' '.join([lemmatizer.lemmatize(word) for word in x.split()]))\n"
   ]
  },
  {
   "cell_type": "code",
   "execution_count": 35,
   "id": "8c944a86",
   "metadata": {},
   "outputs": [
    {
     "data": {
      "text/html": [
       "<div>\n",
       "<style scoped>\n",
       "    .dataframe tbody tr th:only-of-type {\n",
       "        vertical-align: middle;\n",
       "    }\n",
       "\n",
       "    .dataframe tbody tr th {\n",
       "        vertical-align: top;\n",
       "    }\n",
       "\n",
       "    .dataframe thead th {\n",
       "        text-align: right;\n",
       "    }\n",
       "</style>\n",
       "<table border=\"1\" class=\"dataframe\">\n",
       "  <thead>\n",
       "    <tr style=\"text-align: right;\">\n",
       "      <th></th>\n",
       "      <th>reviewerID</th>\n",
       "      <th>asin</th>\n",
       "      <th>reviewText</th>\n",
       "      <th>summary</th>\n",
       "      <th>overall</th>\n",
       "      <th>label</th>\n",
       "      <th>final_text</th>\n",
       "    </tr>\n",
       "  </thead>\n",
       "  <tbody>\n",
       "    <tr>\n",
       "      <th>0</th>\n",
       "      <td>A32T2H8150OJLU</td>\n",
       "      <td>B00000JBLH</td>\n",
       "      <td>I bought my first HP12C in about 1984 or so, and it served me faithfully until 2002 when I lost it while travelling.  I searched for another one to replace it, but found one difficult to come by in my area.  So, I decided to buy up and purchased an HP 49G.  What a mistake!  I know that many people view the HP 49G (now 49G+) as the flagship of the HP line, but for me that was a disaster.The 49G may be powerful, but using it is extremely counterintuitive...and the manual was sketchy at best.  The 12C, on the other hand, does what I need in a way that makes good sense to me.If you are looking for a solid, reliable calculator, the HP12C may be for you.  It's programmable.  It does basic statistics well, and many business applications too.  The manual makes sense; you will be up and running in short order.I'm ready to set my 49G aside and move back to my old friend.  I didn't even have to replace the batteries in well over a decade of use!HP 12C, I'm coming home!</td>\n",
       "      <td>A solid performer, and long time friend</td>\n",
       "      <td>5</td>\n",
       "      <td>Positive</td>\n",
       "      <td>bought first hp12c in 1984 and served faithfully until 2002 when lost travelling searched another one replace found one difficult come in area decided buy and purchased an hp 49g mistake know many people view hp 49g now 49g flagship hp line disasterthe 49g may powerful using extremely counterintuitiveand manual sketchy best 12c on hand need in way make good sense meif looking solid reliable calculator hp12c may programmable basic statistic well and many business application manual make sense and running in short orderim ready set 49g aside and move back old friend didnt even replace battery in well decade usehp 12c im coming home solid performer and long time friend</td>\n",
       "    </tr>\n",
       "    <tr>\n",
       "      <th>1</th>\n",
       "      <td>A3MAFS04ZABRGO</td>\n",
       "      <td>B00000JBLH</td>\n",
       "      <td>WHY THIS BELATED REVIEW? I feel very obliged to share my views about this old workhorse, the HP12C GOLD at its 25th anniversary and my 1Oth year as a satisfied ower user and fan. Especially after sharing my frank views on Amazon about two of its three successors on Amazon.com, burying the HP12c Platinum (2004 1st release, HP12cP) and praising the HP12c Platiunum Anniversary Edition (2006 3rd release, HP12cPAE or HP12cPA).To the majority of HP 12c calculator owners and fans, including the non-techkie nerd like myself, the name Hewlett-Packard To the majority of HP 12c calculator owners and fans. The brandname of Hewlett-Packard is synonymous with the highest quality and best range offered in handheld electronic business financial calculators before the first generation of personal computers hits the desktops of business users.To date (December 2007), the bearer of this \"gold\" standard is none other than the HP12C HP's \"golden boy\" in its calculator business segment.The HP12C now a matured product, is the only continuing HP handheld surviving calculator product since '81 and probably the longest selling electronic calculator ever. According to HP almost 15 million HP 12Cs, cPs was sold since ,it is probably the best selling HP (and RPN) calculator ever.As a proven product, the HP12C \"gold\" works from day 1, with its form factor and sofware remaining unchanged and has not been dethroned by rivals and even its HP successors which had come and go.Even with PC software versions being sold, the 12C remains the truly indispensable \"portable\" finance-business heldheld computer for its owners, professionals and students alike. This handy companion powers up immediately and is faster than any portable personal computers to jump right into the action.The HP12C is a serious product and the ultimate time tested solution, field tested proven by its users and survived all its rival products, the workhorse moves on.Anyone in charge of this HP line should always bear in mind that the continued production run of the HP 12c is a testimony of HP's quality and standard expected by its customers.Don't just listen to a HP12C fan here, I own and am using three out of 4 models of the HP 12C series, and it is amusing and somewhat disappointing to observe that it had taken HP at least four years and two major upgrades of the HP 12c Platinium, in its futile attempt to \"fix &amp; retire\" the HP12C with three successors in the form of HP12cPlatinum since 2004.It would seems especially frustrating on the part of HP, to realize after all the effort spent on remaking the HP12cPlatinum models that it would not outdone its siblings the HP10bII and HP17bII+ series to seriously challenge the HP12C Gold.  However, by their own rights the HP10Bs and HP17Bs, and the HP12cPlatinum may find their rightful place in the HP financial calculator line, differentiating the HP12C GOLD in terms of price and functions.IMHO, this had happened because the following golden rules were infringed by HP...GOLDEN RULE I - A PRODUCT WHICH STILL SELLS ITSELF IS NEVER OBSOLETE.GOLDEN RULE II - IF IT AREN'T BROKEN, DON't FIX IT ! \"The gold rule of thumb should always be guarded as gospel by the HP heldheld calculator product team. Based on the same reasoning, the HP12C's built quality and product standard is paramount to its users.GOLDEN RULE III - ALWAYS LISTEN TO YOUR CUSTOMERS! If in doubt, see rules I &amp; II.GOLDEN RULE IV - ONLY OUTSOURCE THE MANUFACTURING OF YOUR PRODUCT TO SOMEONE WHO COULD BETTER YOUR OWN PRODUCT QUALITY. If in doubt ask IBM about Lenovo.GOLDEN RULE V - THE BENCHMARKING INDUSTRY STANDARD FOR THIS PRODUCT LINE IS THE HP12C. Just in case, if HP does not know or is not listening to its customers.GOLDEN RULE VI - DO NOT DISCONTINUE THE ICONIC HP12C GOLD. HP needs no reminder that the customer is always right. Please let your customer, the ultimate market force decide if the HP12C should ever be retired.As an ardent fan of HP12C and line of financial business &amp; scientific calculators, I am of the view that the day when HP discontinue the HP12C would be the day it exit this business segment. I speculate this would happen when the HP brandname disappears from the 12C just like after IBM name had disappeared from ThinkPads and ThinkCentres.Since the price of GOLD is on the rise, it is indeed puzzling to fans of the HP12C, why HP did not release a genuine HP12C gold 25th anniversary model for the fans to mark the occasion, if replacing the discontinuing the HP12C GOLD is the intention READ ALL GOLDEN RULES above.To be fair, the silver HP12c Platinum Anniversary is very nice and has spotted the \"retro\" silver look of the HP 11C, however, it is still not the GOLD standard. With HP missing this golden opportunity to mark the occasion, I would love to see and own a HP 12C engraved with 50th Anniversary logo, reckon that this would be the ultimate testimony for the HP12C and a milestone for its fans.Looking forward, a GOLD 50th anniversary HP12C Anniversary model would be very nice for the fans.For HP, this is a lucrative business proposition. By now, they would have realized that if they have any of its products which could hit a 50th year home run  in 2031, it would not be from its other product line-it would be this original HP12C GOLD standard bearer. So please treat the old workhorse with the upmost respect!</td>\n",
       "      <td>Price of GOLD is up, so don't bury the golden flagship HP12c !</td>\n",
       "      <td>5</td>\n",
       "      <td>Positive</td>\n",
       "      <td>belated review feel obliged share view old workhorse hp12c gold 25th anniversary and 1oth year satisfied ower user and fan especially sharing frank view on amazon two three successor on amazoncom burying hp12c platinum 2004 1st release hp12cp and praising hp12c platiunum anniversary edition 2006 3rd release hp12cpae hp12cpato majority hp 12c calculator owner and fan including nontechkie nerd like name hewlettpackard majority hp 12c calculator owner and fan brandname hewlettpackard synonymous highest quality and best range offered in handheld electronic business financial calculator first generation personal computer hit desktop business usersto date december 2007 bearer gold standard none than hp12c hp golden boy in calculator business segmentthe hp12c now matured product only continuing hp handheld surviving calculator product since 81 and probably longest selling electronic calculator ever according hp almost 15 million hp 12cs cps sold since probably best selling hp and rpn calculator everas proven product hp12c gold work day 1 form factor and sofware remaining unchanged and not been dethroned rival and even hp successor come and goeven pc software version being sold 12c remains truly indispensable portable financebusiness heldheld computer owner professional and student alike handy companion power immediately and faster than any portable personal computer jump right into actionthe hp12c serious product and ultimate time tested solution field tested proven user and survived rival product workhorse move onanyone in charge hp line always bear in mind continued production run hp 12c testimony hp quality and standard expected customersdont listen hp12c fan own and using three 4 model hp 12c series and amusing and somewhat disappointing observe taken hp least four year and two major upgrade hp 12c platinium in futile attempt fix retire hp12c three successor in form hp12cplatinum since 2004it would seems especially frustrating on part hp realize effort spent on remaking hp12cplatinum model would not outdone sibling hp10bii and hp17bii series seriously challenge hp12c gold however own right hp10bs and hp17bs and hp12cplatinum may find rightful place in hp financial calculator line differentiating hp12c gold in term price and functionsimho happened following golden rule infringed hpgolden rule product still sell never obsoletegolden rule ii arent broken dont fix gold rule thumb always guarded gospel hp heldheld calculator product team based on reasoning hp12cs built quality and product standard paramount usersgolden rule iii always listen customer in doubt see rule iigolden rule iv only outsource manufacturing product someone could better own product quality in doubt ask ibm lenovogolden rule v benchmarking industry standard product line hp12c in case hp not know not listening customersgolden rule vi not discontinue iconic hp12c gold hp need no reminder customer always right please let customer ultimate market force decide hp12c ever retiredas an ardent fan hp12c and line financial business scientific calculator view day when hp discontinue hp12c would day exit business segment speculate would happen when hp brandname disappears 12c like ibm name disappeared thinkpads and thinkcentressince price gold on rise indeed puzzling fan hp12c hp not release genuine hp12c gold 25th anniversary model fan mark occasion replacing discontinuing hp12c gold intention read golden rule aboveto fair silver hp12c platinum anniversary nice and spotted retro silver look hp 11c however still not gold standard hp missing golden opportunity mark occasion would love see and own hp 12c engraved 50th anniversary logo reckon would ultimate testimony hp12c and milestone fanslooking forward gold 50th anniversary hp12c anniversary model would nice fansfor hp lucrative business proposition now would realized any product could hit 50th year home run in 2031 would not product lineit would original hp12c gold standard bearer please treat old workhorse upmost respect price gold dont bury golden flagship hp12c</td>\n",
       "    </tr>\n",
       "    <tr>\n",
       "      <th>2</th>\n",
       "      <td>A1F1A0QQP2XVH5</td>\n",
       "      <td>B00000JBLH</td>\n",
       "      <td>I have an HP 48GX that has been kicking for more than twenty years and an HP 11 that is more than 25 years old and still flawless.  I have had this 12C for about 18 months and the number 5 key is already giving me trouble (have to press hard for it to register).  No drops, no abuse.  The overall feel of this new HP is cheaper plastic.  The keys feel hollow and light.  The available functions are great.  This is a classic calculator.  But the functions are no good if the keys stop working...</td>\n",
       "      <td>Good functionality, but not durable like old HPs</td>\n",
       "      <td>2</td>\n",
       "      <td>Negative</td>\n",
       "      <td>an hp 48gx been kicking than twenty year and an hp 11 than 25 year old and still flawless 12c 18 month and number 5 key already giving trouble press hard register no drop no abuse overall feel new hp cheaper plastic key feel hollow and light available function great classic calculator function no good key stop working good functionality not durable like old hp</td>\n",
       "    </tr>\n",
       "  </tbody>\n",
       "</table>\n",
       "</div>"
      ],
      "text/plain": [
       "       reviewerID        asin  \\\n",
       "0  A32T2H8150OJLU  B00000JBLH   \n",
       "1  A3MAFS04ZABRGO  B00000JBLH   \n",
       "2  A1F1A0QQP2XVH5  B00000JBLH   \n",
       "\n",
       "                                                                                                                                                                                                                                                                                                                                                                                                                                                                                                                                                                                                                                                                                                                                                                                                                                                                                                                                                                                                                                                                                                                                                                                                                                                                                                                                                                                                                                                                                                                                                                                                                                                                                                                                                                                                                                                                                                                                                                                                                                                                                                                                                                                                                                                                                                                                                                                                                                                                                                                                                                                                                                                                                                                                                                                                                                                                                                                                                                                                                                                                                                                                                                                                                                                                                                                                                                                                                                                                                                                                                                                                                                                                                                                                                                                                                                                                                                                                                                                                                                                                                                                                                                                                                                                                                                                                                                                                                                                                                                                                                                                                                                                                                                                                                                                                                                                                                                                                                                                                                                                                                                                                                                                                                                                                                                                                                                                                                                                                                                                                                                    reviewText  \\\n",
       "0  I bought my first HP12C in about 1984 or so, and it served me faithfully until 2002 when I lost it while travelling.  I searched for another one to replace it, but found one difficult to come by in my area.  So, I decided to buy up and purchased an HP 49G.  What a mistake!  I know that many people view the HP 49G (now 49G+) as the flagship of the HP line, but for me that was a disaster.The 49G may be powerful, but using it is extremely counterintuitive...and the manual was sketchy at best.  The 12C, on the other hand, does what I need in a way that makes good sense to me.If you are looking for a solid, reliable calculator, the HP12C may be for you.  It's programmable.  It does basic statistics well, and many business applications too.  The manual makes sense; you will be up and running in short order.I'm ready to set my 49G aside and move back to my old friend.  I didn't even have to replace the batteries in well over a decade of use!HP 12C, I'm coming home!                                                                                                                                                                                                                                                                                                                                                                                                                                                                                                                                                                                                                                                                                                                                                                                                                                                                                                                                                                                                                                                                                                                                                                                                                                                                                                                                                                                                                                                                                                                                                                                                                                                                                                                                                                                                                                                                                                                                                                                                                                                                                                                                                                                                                                                                                                                                                                                                                                                                                                                                                                                                                                                                                                                                                                                                                                                                                                                                                                                                                                                                                                                                                                                                                                                                                                                                                                                                                                                                                                                                                                                                                                                                                                                                                                                                                                                                                                                                                                                                                                                                                                                                                                                                                                                                                                                                                                                                                                                                                                                                                                  \n",
       "1  WHY THIS BELATED REVIEW? I feel very obliged to share my views about this old workhorse, the HP12C GOLD at its 25th anniversary and my 1Oth year as a satisfied ower user and fan. Especially after sharing my frank views on Amazon about two of its three successors on Amazon.com, burying the HP12c Platinum (2004 1st release, HP12cP) and praising the HP12c Platiunum Anniversary Edition (2006 3rd release, HP12cPAE or HP12cPA).To the majority of HP 12c calculator owners and fans, including the non-techkie nerd like myself, the name Hewlett-Packard To the majority of HP 12c calculator owners and fans. The brandname of Hewlett-Packard is synonymous with the highest quality and best range offered in handheld electronic business financial calculators before the first generation of personal computers hits the desktops of business users.To date (December 2007), the bearer of this \"gold\" standard is none other than the HP12C HP's \"golden boy\" in its calculator business segment.The HP12C now a matured product, is the only continuing HP handheld surviving calculator product since '81 and probably the longest selling electronic calculator ever. According to HP almost 15 million HP 12Cs, cPs was sold since ,it is probably the best selling HP (and RPN) calculator ever.As a proven product, the HP12C \"gold\" works from day 1, with its form factor and sofware remaining unchanged and has not been dethroned by rivals and even its HP successors which had come and go.Even with PC software versions being sold, the 12C remains the truly indispensable \"portable\" finance-business heldheld computer for its owners, professionals and students alike. This handy companion powers up immediately and is faster than any portable personal computers to jump right into the action.The HP12C is a serious product and the ultimate time tested solution, field tested proven by its users and survived all its rival products, the workhorse moves on.Anyone in charge of this HP line should always bear in mind that the continued production run of the HP 12c is a testimony of HP's quality and standard expected by its customers.Don't just listen to a HP12C fan here, I own and am using three out of 4 models of the HP 12C series, and it is amusing and somewhat disappointing to observe that it had taken HP at least four years and two major upgrades of the HP 12c Platinium, in its futile attempt to \"fix & retire\" the HP12C with three successors in the form of HP12cPlatinum since 2004.It would seems especially frustrating on the part of HP, to realize after all the effort spent on remaking the HP12cPlatinum models that it would not outdone its siblings the HP10bII and HP17bII+ series to seriously challenge the HP12C Gold.  However, by their own rights the HP10Bs and HP17Bs, and the HP12cPlatinum may find their rightful place in the HP financial calculator line, differentiating the HP12C GOLD in terms of price and functions.IMHO, this had happened because the following golden rules were infringed by HP...GOLDEN RULE I - A PRODUCT WHICH STILL SELLS ITSELF IS NEVER OBSOLETE.GOLDEN RULE II - IF IT AREN'T BROKEN, DON't FIX IT ! \"The gold rule of thumb should always be guarded as gospel by the HP heldheld calculator product team. Based on the same reasoning, the HP12C's built quality and product standard is paramount to its users.GOLDEN RULE III - ALWAYS LISTEN TO YOUR CUSTOMERS! If in doubt, see rules I & II.GOLDEN RULE IV - ONLY OUTSOURCE THE MANUFACTURING OF YOUR PRODUCT TO SOMEONE WHO COULD BETTER YOUR OWN PRODUCT QUALITY. If in doubt ask IBM about Lenovo.GOLDEN RULE V - THE BENCHMARKING INDUSTRY STANDARD FOR THIS PRODUCT LINE IS THE HP12C. Just in case, if HP does not know or is not listening to its customers.GOLDEN RULE VI - DO NOT DISCONTINUE THE ICONIC HP12C GOLD. HP needs no reminder that the customer is always right. Please let your customer, the ultimate market force decide if the HP12C should ever be retired.As an ardent fan of HP12C and line of financial business & scientific calculators, I am of the view that the day when HP discontinue the HP12C would be the day it exit this business segment. I speculate this would happen when the HP brandname disappears from the 12C just like after IBM name had disappeared from ThinkPads and ThinkCentres.Since the price of GOLD is on the rise, it is indeed puzzling to fans of the HP12C, why HP did not release a genuine HP12C gold 25th anniversary model for the fans to mark the occasion, if replacing the discontinuing the HP12C GOLD is the intention READ ALL GOLDEN RULES above.To be fair, the silver HP12c Platinum Anniversary is very nice and has spotted the \"retro\" silver look of the HP 11C, however, it is still not the GOLD standard. With HP missing this golden opportunity to mark the occasion, I would love to see and own a HP 12C engraved with 50th Anniversary logo, reckon that this would be the ultimate testimony for the HP12C and a milestone for its fans.Looking forward, a GOLD 50th anniversary HP12C Anniversary model would be very nice for the fans.For HP, this is a lucrative business proposition. By now, they would have realized that if they have any of its products which could hit a 50th year home run  in 2031, it would not be from its other product line-it would be this original HP12C GOLD standard bearer. So please treat the old workhorse with the upmost respect!   \n",
       "2  I have an HP 48GX that has been kicking for more than twenty years and an HP 11 that is more than 25 years old and still flawless.  I have had this 12C for about 18 months and the number 5 key is already giving me trouble (have to press hard for it to register).  No drops, no abuse.  The overall feel of this new HP is cheaper plastic.  The keys feel hollow and light.  The available functions are great.  This is a classic calculator.  But the functions are no good if the keys stop working...                                                                                                                                                                                                                                                                                                                                                                                                                                                                                                                                                                                                                                                                                                                                                                                                                                                                                                                                                                                                                                                                                                                                                                                                                                                                                                                                                                                                                                                                                                                                                                                                                                                                                                                                                                                                                                                                                                                                                                                                                                                                                                                                                                                                                                                                                                                                                                                                                                                                                                                                                                                                                                                                                                                                                                                                                                                                                                                                                                                                                                                                                                                                                                                                                                                                                                                                                                                                                                                                                                                                                                                                                                                                                                                                                                                                                                                                                                                                                                                                                                                                                                                                                                                                                                                                                                                                                                                                                                                                                                                                                                                                                                                                                                                                                                                                                                                                                                                                                                                                                                                               \n",
       "\n",
       "                                                          summary  overall  \\\n",
       "0  A solid performer, and long time friend                         5         \n",
       "1  Price of GOLD is up, so don't bury the golden flagship HP12c !  5         \n",
       "2  Good functionality, but not durable like old HPs                2         \n",
       "\n",
       "      label  \\\n",
       "0  Positive   \n",
       "1  Positive   \n",
       "2  Negative   \n",
       "\n",
       "                                                                                                                                                                                                                                                                                                                                                                                                                                                                                                                                                                                                                                                                                                                                                                                                                                                                                                                                                                                                                                                                                                                                                                                                                                                                                                                                                                                                                                                                                                                                                                                                                                                                                                                                                                                                                                                                                                                                                                                                                                                                                                                                                                                                                                                                                                                                                                                                                                                                                                                                                                                                                                                                                                                                                                                                                                                                                                                                                                                                                                                                                                                                                                                                                                                                                                                                                                                                                                                                                                                                                                                                                                                                                                                                                                                                                                                                                                                                                                                                                                                                                                                                                                                                   final_text  \n",
       "0  bought first hp12c in 1984 and served faithfully until 2002 when lost travelling searched another one replace found one difficult come in area decided buy and purchased an hp 49g mistake know many people view hp 49g now 49g flagship hp line disasterthe 49g may powerful using extremely counterintuitiveand manual sketchy best 12c on hand need in way make good sense meif looking solid reliable calculator hp12c may programmable basic statistic well and many business application manual make sense and running in short orderim ready set 49g aside and move back old friend didnt even replace battery in well decade usehp 12c im coming home solid performer and long time friend                                                                                                                                                                                                                                                                                                                                                                                                                                                                                                                                                                                                                                                                                                                                                                                                                                                                                                                                                                                                                                                                                                                                                                                                                                                                                                                                                                                                                                                                                                                                                                                                                                                                                                                                                                                                                                                                                                                                                                                                                                                                                                                                                                                                                                                                                                                                                                                                                                                                                                                                                                                                                                                                                                                                                                                                                                                                                                                                                                                                                                                                                                                                                                                                                                                                                                                                                                                                                                                                                                          \n",
       "1  belated review feel obliged share view old workhorse hp12c gold 25th anniversary and 1oth year satisfied ower user and fan especially sharing frank view on amazon two three successor on amazoncom burying hp12c platinum 2004 1st release hp12cp and praising hp12c platiunum anniversary edition 2006 3rd release hp12cpae hp12cpato majority hp 12c calculator owner and fan including nontechkie nerd like name hewlettpackard majority hp 12c calculator owner and fan brandname hewlettpackard synonymous highest quality and best range offered in handheld electronic business financial calculator first generation personal computer hit desktop business usersto date december 2007 bearer gold standard none than hp12c hp golden boy in calculator business segmentthe hp12c now matured product only continuing hp handheld surviving calculator product since 81 and probably longest selling electronic calculator ever according hp almost 15 million hp 12cs cps sold since probably best selling hp and rpn calculator everas proven product hp12c gold work day 1 form factor and sofware remaining unchanged and not been dethroned rival and even hp successor come and goeven pc software version being sold 12c remains truly indispensable portable financebusiness heldheld computer owner professional and student alike handy companion power immediately and faster than any portable personal computer jump right into actionthe hp12c serious product and ultimate time tested solution field tested proven user and survived rival product workhorse move onanyone in charge hp line always bear in mind continued production run hp 12c testimony hp quality and standard expected customersdont listen hp12c fan own and using three 4 model hp 12c series and amusing and somewhat disappointing observe taken hp least four year and two major upgrade hp 12c platinium in futile attempt fix retire hp12c three successor in form hp12cplatinum since 2004it would seems especially frustrating on part hp realize effort spent on remaking hp12cplatinum model would not outdone sibling hp10bii and hp17bii series seriously challenge hp12c gold however own right hp10bs and hp17bs and hp12cplatinum may find rightful place in hp financial calculator line differentiating hp12c gold in term price and functionsimho happened following golden rule infringed hpgolden rule product still sell never obsoletegolden rule ii arent broken dont fix gold rule thumb always guarded gospel hp heldheld calculator product team based on reasoning hp12cs built quality and product standard paramount usersgolden rule iii always listen customer in doubt see rule iigolden rule iv only outsource manufacturing product someone could better own product quality in doubt ask ibm lenovogolden rule v benchmarking industry standard product line hp12c in case hp not know not listening customersgolden rule vi not discontinue iconic hp12c gold hp need no reminder customer always right please let customer ultimate market force decide hp12c ever retiredas an ardent fan hp12c and line financial business scientific calculator view day when hp discontinue hp12c would day exit business segment speculate would happen when hp brandname disappears 12c like ibm name disappeared thinkpads and thinkcentressince price gold on rise indeed puzzling fan hp12c hp not release genuine hp12c gold 25th anniversary model fan mark occasion replacing discontinuing hp12c gold intention read golden rule aboveto fair silver hp12c platinum anniversary nice and spotted retro silver look hp 11c however still not gold standard hp missing golden opportunity mark occasion would love see and own hp 12c engraved 50th anniversary logo reckon would ultimate testimony hp12c and milestone fanslooking forward gold 50th anniversary hp12c anniversary model would nice fansfor hp lucrative business proposition now would realized any product could hit 50th year home run in 2031 would not product lineit would original hp12c gold standard bearer please treat old workhorse upmost respect price gold dont bury golden flagship hp12c  \n",
       "2  an hp 48gx been kicking than twenty year and an hp 11 than 25 year old and still flawless 12c 18 month and number 5 key already giving trouble press hard register no drop no abuse overall feel new hp cheaper plastic key feel hollow and light available function great classic calculator function no good key stop working good functionality not durable like old hp                                                                                                                                                                                                                                                                                                                                                                                                                                                                                                                                                                                                                                                                                                                                                                                                                                                                                                                                                                                                                                                                                                                                                                                                                                                                                                                                                                                                                                                                                                                                                                                                                                                                                                                                                                                                                                                                                                                                                                                                                                                                                                                                                                                                                                                                                                                                                                                                                                                                                                                                                                                                                                                                                                                                                                                                                                                                                                                                                                                                                                                                                                                                                                                                                                                                                                                                                                                                                                                                                                                                                                                                                                                                                                                                                                                                                                  "
      ]
     },
     "execution_count": 35,
     "metadata": {},
     "output_type": "execute_result"
    }
   ],
   "source": [
    "df_sample.head(3)"
   ]
  },
  {
   "cell_type": "code",
   "execution_count": 36,
   "id": "5ddad525",
   "metadata": {},
   "outputs": [],
   "source": [
    "'''\n",
    "5) Shuffle data = In df_sample dataset, instances of all 3 classes are ordered. \n",
    "To train un-baised ML model, shuffling dataset is required.\n",
    "'''\n",
    "\n",
    "from sklearn.utils import shuffle\n",
    "df_sample = shuffle(df_sample)"
   ]
  },
  {
   "cell_type": "markdown",
   "id": "735d7791",
   "metadata": {},
   "source": [
    "#### Spliting data into training and test data"
   ]
  },
  {
   "cell_type": "code",
   "execution_count": 37,
   "id": "901d5389",
   "metadata": {},
   "outputs": [],
   "source": [
    "#d. Split the data into 70% for training and 30% for testing,—Use stratified splitting based on the rating value field.\n",
    "\n",
    "df_train, df_test = train_test_split(df_sample, test_size=0.30, random_state=1, stratify=df_sample['label'])"
   ]
  },
  {
   "cell_type": "code",
   "execution_count": 38,
   "id": "f2d63c11",
   "metadata": {},
   "outputs": [
    {
     "data": {
      "text/plain": [
       "Positive    31739\n",
       "Neutral     3542 \n",
       "Negative    1999 \n",
       "Name: label, dtype: int64"
      ]
     },
     "execution_count": 38,
     "metadata": {},
     "output_type": "execute_result"
    }
   ],
   "source": [
    "df_train['label'].value_counts()"
   ]
  },
  {
   "cell_type": "code",
   "execution_count": 39,
   "id": "6c7b82ca",
   "metadata": {},
   "outputs": [
    {
     "data": {
      "text/plain": [
       "Positive    13603\n",
       "Neutral     1518 \n",
       "Negative    857  \n",
       "Name: label, dtype: int64"
      ]
     },
     "execution_count": 39,
     "metadata": {},
     "output_type": "execute_result"
    }
   ],
   "source": [
    "df_test['label'].value_counts()"
   ]
  },
  {
   "cell_type": "code",
   "execution_count": 40,
   "id": "d6b4d566",
   "metadata": {},
   "outputs": [
    {
     "data": {
      "text/plain": [
       "Positive    45342\n",
       "Neutral     5060 \n",
       "Negative    2856 \n",
       "Name: label, dtype: int64"
      ]
     },
     "execution_count": 40,
     "metadata": {},
     "output_type": "execute_result"
    }
   ],
   "source": [
    "df_sample['label'].value_counts()"
   ]
  },
  {
   "cell_type": "markdown",
   "id": "5d676356",
   "metadata": {},
   "source": [
    "# Phase -I (Lexicon approach)"
   ]
  },
  {
   "cell_type": "markdown",
   "id": "a4a5ee3d",
   "metadata": {},
   "source": [
    "'''\n",
    "Lexicon approaches are rule-based approaches where predictions are made on certain\n",
    "rules set in the model. Thus, this type of model does not need training like the Machine learning\n",
    "model and can be easy to implement, cost-effective, and provides decent accuracy on many use\n",
    "cases.\n",
    "Lexicon approach can be implemented by mainly two ways: -\n",
    "1) Setting and incorporating rules manually from scratch\n",
    "\n",
    "2) Using packages available that contains already set of rules\n",
    "\n",
    "In this project, a second option is used, and therefore, two lexicon packages are used to\n",
    "create a lexicon model for the Sentiment Analysis task.\n",
    "'''"
   ]
  },
  {
   "cell_type": "markdown",
   "id": "2c3341e8",
   "metadata": {},
   "source": [
    "### i. Valence Aware Dictionary and Sentiment Reasoner (VADR) "
   ]
  },
  {
   "cell_type": "code",
   "execution_count": 41,
   "id": "4b47fe8b",
   "metadata": {},
   "outputs": [],
   "source": [
    "from vaderSentiment.vaderSentiment import SentimentIntensityAnalyzer"
   ]
  },
  {
   "cell_type": "code",
   "execution_count": 42,
   "id": "eae951df",
   "metadata": {},
   "outputs": [],
   "source": [
    "analyzer = SentimentIntensityAnalyzer()"
   ]
  },
  {
   "cell_type": "code",
   "execution_count": 43,
   "id": "7b387349",
   "metadata": {},
   "outputs": [],
   "source": [
    "def score_vader(review):\n",
    "    scores = analyzer.polarity_scores(review)\n",
    "    compound_score = scores['compound']\n",
    "    return compound_score"
   ]
  },
  {
   "cell_type": "markdown",
   "id": "3b2d935b",
   "metadata": {},
   "source": [
    "#### for training data"
   ]
  },
  {
   "cell_type": "code",
   "execution_count": 44,
   "id": "bafc9756",
   "metadata": {},
   "outputs": [],
   "source": [
    "df_train['prediction'] = df_train.apply(lambda row: analyzer.polarity_scores(row['final_text']), axis=1)"
   ]
  },
  {
   "cell_type": "code",
   "execution_count": 45,
   "id": "cd14368c",
   "metadata": {},
   "outputs": [],
   "source": [
    "df_train['score'] = df_train.apply(lambda row: score_vader(row['final_text']), axis=1)"
   ]
  },
  {
   "cell_type": "markdown",
   "id": "1fee43ab",
   "metadata": {},
   "source": [
    "'''\n",
    "Try different values(number ) to set threshold for classifiying Positive, Negative and Neutral based on Polarity score recevied by VADR.\n",
    "And then, use same threshold values on test set and caluclate performance.\n",
    "'''"
   ]
  },
  {
   "cell_type": "code",
   "execution_count": 46,
   "id": "22900e3d",
   "metadata": {},
   "outputs": [],
   "source": [
    "\n",
    "df_train.loc[df_train['score'] >= 0.7, 'prediction'] = 'Positive'\n",
    "df_train.loc[(df_train['score'] > -0.2)  & (df_train['score'] < 0.7), 'prediction'] = 'Neutral'\n",
    "df_train.loc[df_train['score'] <= -0.2, 'prediction'] = 'Negative'\n"
   ]
  },
  {
   "cell_type": "code",
   "execution_count": 47,
   "id": "97948333",
   "metadata": {},
   "outputs": [
    {
     "data": {
      "text/plain": [
       "Positive    29601\n",
       "Neutral     5913 \n",
       "Negative    1766 \n",
       "Name: prediction, dtype: int64"
      ]
     },
     "execution_count": 47,
     "metadata": {},
     "output_type": "execute_result"
    }
   ],
   "source": [
    "df_train['prediction'].value_counts()"
   ]
  },
  {
   "cell_type": "code",
   "execution_count": 48,
   "id": "c1391462",
   "metadata": {},
   "outputs": [
    {
     "data": {
      "text/html": [
       "<div>\n",
       "<style scoped>\n",
       "    .dataframe tbody tr th:only-of-type {\n",
       "        vertical-align: middle;\n",
       "    }\n",
       "\n",
       "    .dataframe tbody tr th {\n",
       "        vertical-align: top;\n",
       "    }\n",
       "\n",
       "    .dataframe thead th {\n",
       "        text-align: right;\n",
       "    }\n",
       "</style>\n",
       "<table border=\"1\" class=\"dataframe\">\n",
       "  <thead>\n",
       "    <tr style=\"text-align: right;\">\n",
       "      <th></th>\n",
       "      <th>reviewerID</th>\n",
       "      <th>asin</th>\n",
       "      <th>reviewText</th>\n",
       "      <th>summary</th>\n",
       "      <th>overall</th>\n",
       "      <th>label</th>\n",
       "      <th>final_text</th>\n",
       "      <th>prediction</th>\n",
       "      <th>score</th>\n",
       "    </tr>\n",
       "  </thead>\n",
       "  <tbody>\n",
       "    <tr>\n",
       "      <th>27534</th>\n",
       "      <td>ABC68JUCPTVOE</td>\n",
       "      <td>B0039N7EOA</td>\n",
       "      <td>Before receiving these Scotch Reusable Mounting Strips, I was struggling to stick posters and signs to my uneven, bumpy walls with the old-school grey mounting putty.  I used the putty because, unlike double-sided foam mounting squares, the putty is easily removable.  Unfortunately, the wall putty doesn't stick well and is a pain to use (has to be kneaded until warm then squished on wall).These Scotch Reusable strips are the best of both worlds.What I like:* Sticky like foam mounting squares, but removable (almost) like wall putty.* Clear adhesive doesn't mark.* Tacky enough for posters and lightweight signs.  Not too tacky for most semi-delicate (painted) walls.* Good price.* Soft enough to stick to uneven walls.* Reusable adhesive can be moved or reused.Other thoughts:* Not the best for dusty brick walls.  This is one place wall putty may work better.* Tackiness fades as they pick up dirt upon reuse.  Rinsing with water seemed to help.</td>\n",
       "      <td>Big improvement over wall putty</td>\n",
       "      <td>5</td>\n",
       "      <td>Positive</td>\n",
       "      <td>receiving scotch reusable mounting strip struggling stick poster and sign uneven bumpy wall oldschool grey mounting putty used putty unlike doublesided foam mounting square putty easily removable unfortunately wall putty doesnt stick well and pain use kneaded until warm then squished on wallthese scotch reusable strip best worldswhat like sticky like foam mounting square removable almost like wall putty clear adhesive doesnt mark tacky enough poster and lightweight sign not tacky semidelicate painted wall good price soft enough stick uneven wall reusable adhesive can moved reusedother thought not best dusty brick wall one place wall putty may work better tackiness fade pick dirt upon reuse rinsing water seemed help big improvement wall putty</td>\n",
       "      <td>Positive</td>\n",
       "      <td>0.9173</td>\n",
       "    </tr>\n",
       "    <tr>\n",
       "      <th>47724</th>\n",
       "      <td>AIVZMEFEAGF3</td>\n",
       "      <td>B00CPXDK2U</td>\n",
       "      <td>This binder is quite sturdy and feels like it will last me a while.  I tend to wear binders out quickly.  My favorite aspect is the single-touch trigger that opens all 3 rings.  The addition of four interior pockets is very nice and useful.  Although I got white, I really love the bright colors they have available.  The binder comes with a five-year performance guarantee.</td>\n",
       "      <td>Very well made</td>\n",
       "      <td>5</td>\n",
       "      <td>Positive</td>\n",
       "      <td>binder quite sturdy and feel like last tend wear binder quickly favorite aspect singletouch trigger open 3 ring addition four interior pocket nice and useful although got white really love bright color available binder come fiveyear performance guarantee well made</td>\n",
       "      <td>Positive</td>\n",
       "      <td>0.9681</td>\n",
       "    </tr>\n",
       "  </tbody>\n",
       "</table>\n",
       "</div>"
      ],
      "text/plain": [
       "          reviewerID        asin  \\\n",
       "27534  ABC68JUCPTVOE  B0039N7EOA   \n",
       "47724  AIVZMEFEAGF3   B00CPXDK2U   \n",
       "\n",
       "                                                                                                                                                                                                                                                                                                                                                                                                                                                                                                                                                                                                                                                                                                                                                                                                                                                                                                                                                                                    reviewText  \\\n",
       "27534  Before receiving these Scotch Reusable Mounting Strips, I was struggling to stick posters and signs to my uneven, bumpy walls with the old-school grey mounting putty.  I used the putty because, unlike double-sided foam mounting squares, the putty is easily removable.  Unfortunately, the wall putty doesn't stick well and is a pain to use (has to be kneaded until warm then squished on wall).These Scotch Reusable strips are the best of both worlds.What I like:* Sticky like foam mounting squares, but removable (almost) like wall putty.* Clear adhesive doesn't mark.* Tacky enough for posters and lightweight signs.  Not too tacky for most semi-delicate (painted) walls.* Good price.* Soft enough to stick to uneven walls.* Reusable adhesive can be moved or reused.Other thoughts:* Not the best for dusty brick walls.  This is one place wall putty may work better.* Tackiness fades as they pick up dirt upon reuse.  Rinsing with water seemed to help.   \n",
       "47724  This binder is quite sturdy and feels like it will last me a while.  I tend to wear binders out quickly.  My favorite aspect is the single-touch trigger that opens all 3 rings.  The addition of four interior pockets is very nice and useful.  Although I got white, I really love the bright colors they have available.  The binder comes with a five-year performance guarantee.                                                                                                                                                                                                                                                                                                                                                                                                                                                                                                                                                                                                    \n",
       "\n",
       "                               summary  overall     label  \\\n",
       "27534  Big improvement over wall putty  5        Positive   \n",
       "47724  Very well made                   5        Positive   \n",
       "\n",
       "                                                                                                                                                                                                                                                                                                                                                                                                                                                                                                                                                                                                                                                                                                                                                                            final_text  \\\n",
       "27534  receiving scotch reusable mounting strip struggling stick poster and sign uneven bumpy wall oldschool grey mounting putty used putty unlike doublesided foam mounting square putty easily removable unfortunately wall putty doesnt stick well and pain use kneaded until warm then squished on wallthese scotch reusable strip best worldswhat like sticky like foam mounting square removable almost like wall putty clear adhesive doesnt mark tacky enough poster and lightweight sign not tacky semidelicate painted wall good price soft enough stick uneven wall reusable adhesive can moved reusedother thought not best dusty brick wall one place wall putty may work better tackiness fade pick dirt upon reuse rinsing water seemed help big improvement wall putty   \n",
       "47724  binder quite sturdy and feel like last tend wear binder quickly favorite aspect singletouch trigger open 3 ring addition four interior pocket nice and useful although got white really love bright color available binder come fiveyear performance guarantee well made                                                                                                                                                                                                                                                                                                                                                                                                                                                                                                          \n",
       "\n",
       "      prediction   score  \n",
       "27534  Positive   0.9173  \n",
       "47724  Positive   0.9681  "
      ]
     },
     "execution_count": 48,
     "metadata": {},
     "output_type": "execute_result"
    }
   ],
   "source": [
    "df_train.head(2)"
   ]
  },
  {
   "cell_type": "markdown",
   "id": "9bef59cf",
   "metadata": {},
   "source": [
    "#### For testing data"
   ]
  },
  {
   "cell_type": "code",
   "execution_count": 49,
   "id": "32f676ad",
   "metadata": {},
   "outputs": [],
   "source": [
    "# Applying VADER and same threshold set on training data to test data\n",
    "\n",
    "df_test['score'] = df_test.apply(lambda row: score_vader(row['final_text']), axis=1)\n",
    "\n",
    "df_test.loc[df_test['score'] >= 0.7, 'prediction'] = 'Positive'\n",
    "df_test.loc[(df_test['score'] > -0.2)  & (df_test['score'] < 0.7), 'prediction'] = 'Neutral'\n",
    "df_test.loc[df_test['score'] <= -0.2, 'prediction'] = 'Negative'"
   ]
  },
  {
   "cell_type": "code",
   "execution_count": 50,
   "id": "98e884a6",
   "metadata": {},
   "outputs": [
    {
     "data": {
      "text/plain": [
       "Positive    12725\n",
       "Neutral     2528 \n",
       "Negative    725  \n",
       "Name: prediction, dtype: int64"
      ]
     },
     "execution_count": 50,
     "metadata": {},
     "output_type": "execute_result"
    }
   ],
   "source": [
    "df_test['prediction'].value_counts()"
   ]
  },
  {
   "cell_type": "code",
   "execution_count": 51,
   "id": "8491860c",
   "metadata": {
    "scrolled": true
   },
   "outputs": [
    {
     "name": "stdout",
     "output_type": "stream",
     "text": [
      "Accuracy with VADER model: 0.75879334084366\n",
      "f1_score with VADER model: 0.47557439614159\n",
      "Precision with VADER model: 0.48388982742470255\n",
      "Recall with VADER model: 0.47810929790515316\n"
     ]
    }
   ],
   "source": [
    "accuracy = accuracy_score(df_test['label'], df_test['prediction'])\n",
    "f1score = f1_score(df_test['label'], df_test['prediction'], average='macro')\n",
    "precision = precision_score(df_test['label'], df_test['prediction'], average='macro')\n",
    "recall = recall_score(df_test['label'], df_test['prediction'], average='macro')\n",
    "\n",
    "print(f'Accuracy with VADER model: {accuracy}')\n",
    "print(f'f1_score with VADER model: {f1score}')\n",
    "print(f'Precision with VADER model: {precision}')\n",
    "print(f'Recall with VADER model: {recall}')"
   ]
  },
  {
   "cell_type": "markdown",
   "id": "b6cb48fa",
   "metadata": {},
   "source": [
    "### ii Lexicon Approach - TextBlob"
   ]
  },
  {
   "cell_type": "code",
   "execution_count": 52,
   "id": "922bcc83",
   "metadata": {},
   "outputs": [],
   "source": [
    "from textblob import TextBlob"
   ]
  },
  {
   "cell_type": "code",
   "execution_count": 53,
   "id": "d89dfc61",
   "metadata": {},
   "outputs": [],
   "source": [
    "def score_Textblob(review):\n",
    "    wiki = TextBlob(review)\n",
    "    scores_textblob = wiki.sentiment.polarity\n",
    "    return scores_textblob\n"
   ]
  },
  {
   "cell_type": "markdown",
   "id": "834ca809",
   "metadata": {},
   "source": [
    "#### For training data"
   ]
  },
  {
   "cell_type": "markdown",
   "id": "5e38fbd5",
   "metadata": {},
   "source": [
    "'''\n",
    "Try different values(number ) to set threshold for classifiying Positive, Negative and Neutral based on Polarity score recevied by VADR.\n",
    "And then, use same threshold values on test set and caluclate performance.\n",
    "'''"
   ]
  },
  {
   "cell_type": "code",
   "execution_count": 54,
   "id": "c538a250",
   "metadata": {},
   "outputs": [],
   "source": [
    "df_train['score'] = df_train.apply(lambda row: score_Textblob(row['final_text']), axis=1)"
   ]
  },
  {
   "cell_type": "code",
   "execution_count": 55,
   "id": "2de837ff",
   "metadata": {},
   "outputs": [],
   "source": [
    "\n",
    "df_train.loc[df_train['score'] >= 0.15, 'prediction'] = 'Positive'\n",
    "df_train.loc[(df_train['score'] > 0.05)  & (df_train['score'] < 0.15), 'prediction'] = 'Neutral'\n",
    "df_train.loc[df_train['score'] <= 0.05, 'prediction'] = 'Negative'"
   ]
  },
  {
   "cell_type": "code",
   "execution_count": 56,
   "id": "d65b7445",
   "metadata": {},
   "outputs": [
    {
     "data": {
      "text/plain": [
       "Positive    24942\n",
       "Neutral     8206 \n",
       "Negative    4132 \n",
       "Name: prediction, dtype: int64"
      ]
     },
     "execution_count": 56,
     "metadata": {},
     "output_type": "execute_result"
    }
   ],
   "source": [
    "df_train['prediction'].value_counts()"
   ]
  },
  {
   "cell_type": "markdown",
   "id": "acf7393b",
   "metadata": {},
   "source": [
    "#### For testing data"
   ]
  },
  {
   "cell_type": "code",
   "execution_count": 212,
   "id": "f18fb327",
   "metadata": {},
   "outputs": [
    {
     "data": {
      "text/plain": [
       "Positive    2921\n",
       "Neutral     1482\n",
       "Negative    972 \n",
       "Name: prediction, dtype: int64"
      ]
     },
     "execution_count": 212,
     "metadata": {},
     "output_type": "execute_result"
    }
   ],
   "source": [
    "\n",
    "df_test['score'] = df_test.apply(lambda row: score_Textblob(row['final_text']), axis=1)\n",
    "\n",
    "df_test.loc[(df_test['score'] > 0.15), 'prediction'] = 'Positive'\n",
    "df_test.loc[(df_test['score'] > 0.05)  & (df_test['score'] < 0.15), 'prediction'] = 'Neutral'\n",
    "df_test.loc[df_test['score'] <= 0.05, 'prediction'] = 'Negative'\n",
    "\n",
    "df_test['prediction'].value_counts()"
   ]
  },
  {
   "cell_type": "code",
   "execution_count": 213,
   "id": "b9521e46",
   "metadata": {},
   "outputs": [
    {
     "name": "stdout",
     "output_type": "stream",
     "text": [
      "Accuracy with TextBlob model: 0.5637209302325581\n",
      "f1_score with TextBlob model: 0.5040982891180836\n",
      "Precision with TextBlob model: 0.49978394244657304\n",
      "Recall with TextBlob model: 0.5097281992467929\n"
     ]
    }
   ],
   "source": [
    "accuracy = accuracy_score(df_test['label'], df_test['prediction'])\n",
    "f1score = f1_score(df_test['label'], df_test['prediction'], average='macro')\n",
    "precision = precision_score(df_test['label'], df_test['prediction'], average='macro')\n",
    "recall = recall_score(df_test['label'], df_test['prediction'], average='macro')\n",
    "\n",
    "print(f'Accuracy with TextBlob model: {accuracy}')\n",
    "print(f'f1_score with TextBlob model: {f1score}')\n",
    "print(f'Precision with TextBlob model: {precision}')\n",
    "print(f'Recall with TextBlob model: {recall}')"
   ]
  },
  {
   "cell_type": "markdown",
   "id": "1d3bb0a4",
   "metadata": {},
   "source": [
    "# phase -2 (Machine Learning Approach)"
   ]
  },
  {
   "cell_type": "code",
   "execution_count": 58,
   "id": "f9cc3be2",
   "metadata": {},
   "outputs": [],
   "source": [
    "from sklearn.metrics import accuracy_score, precision_score, recall_score, f1_score, confusion_matrix\n",
    "from sklearn.preprocessing import LabelEncoder\n",
    "\n",
    "from sklearn.svm import SVC\n",
    "from sklearn.naive_bayes import MultinomialNB\n",
    "from sklearn.linear_model import LogisticRegression\n",
    "from sklearn.ensemble import GradientBoostingClassifier"
   ]
  },
  {
   "cell_type": "markdown",
   "id": "c0091d98",
   "metadata": {},
   "source": [
    "### train_test_split"
   ]
  },
  {
   "cell_type": "code",
   "execution_count": 59,
   "id": "2d7bd1bc",
   "metadata": {},
   "outputs": [],
   "source": [
    "#d. Split the data into 70% for training and 30% for testing,—Use stratified splitting based on the rating value field.\n",
    "\n",
    "X_train, X_test, y_train, y_test = train_test_split(df_sample['final_text'], df_sample['label'], test_size=0.30, random_state=1, stratify=df_sample['label'])"
   ]
  },
  {
   "cell_type": "code",
   "execution_count": 60,
   "id": "cdf97771",
   "metadata": {},
   "outputs": [
    {
     "data": {
      "text/plain": [
       "((37280,), (15978,), (37280,), (15978,))"
      ]
     },
     "execution_count": 60,
     "metadata": {},
     "output_type": "execute_result"
    }
   ],
   "source": [
    "X_train.shape, X_test.shape, y_train.shape, y_test.shape"
   ]
  },
  {
   "cell_type": "markdown",
   "id": "25e921c5",
   "metadata": {},
   "source": [
    "### Text representation: Represent  text using one of the approaches."
   ]
  },
  {
   "cell_type": "code",
   "execution_count": 61,
   "id": "ca0d3190",
   "metadata": {},
   "outputs": [],
   "source": [
    "from sklearn.feature_extraction.text import TfidfVectorizer"
   ]
  },
  {
   "cell_type": "code",
   "execution_count": 62,
   "id": "826ec3f2",
   "metadata": {},
   "outputs": [],
   "source": [
    "tfidf = TfidfVectorizer(max_features=5000,ngram_range=(1,2))"
   ]
  },
  {
   "cell_type": "code",
   "execution_count": 63,
   "id": "4af0d46b",
   "metadata": {},
   "outputs": [],
   "source": [
    "X_train = tfidf.fit_transform(X_train)  #Creating tfidf_matrix of training data"
   ]
  },
  {
   "cell_type": "code",
   "execution_count": 64,
   "id": "237e1407",
   "metadata": {},
   "outputs": [],
   "source": [
    "X_test = tfidf.transform(X_test) #Creating tfidf_matrix of testing data"
   ]
  },
  {
   "cell_type": "code",
   "execution_count": 65,
   "id": "ebb6a0f7",
   "metadata": {},
   "outputs": [
    {
     "data": {
      "text/plain": [
       "((37280, 5000), (15978, 5000))"
      ]
     },
     "execution_count": 65,
     "metadata": {},
     "output_type": "execute_result"
    }
   ],
   "source": [
    "X_train.shape, X_test.shape"
   ]
  },
  {
   "cell_type": "markdown",
   "id": "3e51f8a8",
   "metadata": {},
   "source": [
    "### Applying label encoding on the labels to convet it into number from texts"
   ]
  },
  {
   "cell_type": "code",
   "execution_count": 66,
   "id": "81fcf1d8",
   "metadata": {},
   "outputs": [],
   "source": [
    "enc = LabelEncoder()\n",
    "actual_labels=enc.fit_transform(y_train)  #Converting training labels to numbers"
   ]
  },
  {
   "cell_type": "code",
   "execution_count": 67,
   "id": "38a4e7a1",
   "metadata": {},
   "outputs": [],
   "source": [
    "actual_labels_test = enc.transform(y_test) #Converting testing labels to numbers"
   ]
  },
  {
   "cell_type": "code",
   "execution_count": 68,
   "id": "559c24d2",
   "metadata": {},
   "outputs": [
    {
     "data": {
      "text/plain": [
       "2    31739\n",
       "1    3542 \n",
       "0    1999 \n",
       "dtype: int64"
      ]
     },
     "execution_count": 68,
     "metadata": {},
     "output_type": "execute_result"
    }
   ],
   "source": [
    "pd.DataFrame(actual_labels).value_counts()"
   ]
  },
  {
   "cell_type": "markdown",
   "id": "735bad51",
   "metadata": {},
   "source": [
    "### Handling imbalanced dataset"
   ]
  },
  {
   "cell_type": "code",
   "execution_count": 69,
   "id": "2fc5fd97",
   "metadata": {},
   "outputs": [],
   "source": [
    "from imblearn.over_sampling import SMOTE"
   ]
  },
  {
   "cell_type": "code",
   "execution_count": 70,
   "id": "19f69b66",
   "metadata": {},
   "outputs": [],
   "source": [
    "sm = SMOTE(random_state=42)\n",
    "\n",
    "# Fit the model to generate the data.\n",
    "oversampled_X, oversampled_Y = sm.fit_resample(X_train,actual_labels)"
   ]
  },
  {
   "cell_type": "code",
   "execution_count": 71,
   "id": "001ce561",
   "metadata": {},
   "outputs": [],
   "source": [
    "X_train = oversampled_X.copy()\n",
    "y_train = oversampled_Y.copy()"
   ]
  },
  {
   "cell_type": "code",
   "execution_count": 72,
   "id": "195ba023",
   "metadata": {},
   "outputs": [
    {
     "data": {
      "text/plain": [
       "0    31739\n",
       "1    31739\n",
       "2    31739\n",
       "dtype: int64"
      ]
     },
     "execution_count": 72,
     "metadata": {},
     "output_type": "execute_result"
    }
   ],
   "source": [
    "pd.DataFrame(y_train).value_counts()"
   ]
  },
  {
   "cell_type": "markdown",
   "id": "5c2b0676",
   "metadata": {},
   "source": [
    "## Naïve Bayes"
   ]
  },
  {
   "cell_type": "code",
   "execution_count": 364,
   "id": "f75fe288",
   "metadata": {},
   "outputs": [],
   "source": [
    "nb = MultinomialNB(alpha=0.1).fit(X_train, y_train)"
   ]
  },
  {
   "cell_type": "code",
   "execution_count": 365,
   "id": "8d02ef6b",
   "metadata": {},
   "outputs": [],
   "source": [
    "pred_nb = nb.predict(X_test)"
   ]
  },
  {
   "cell_type": "markdown",
   "id": "70fd4d0b",
   "metadata": {},
   "source": [
    "#### Testing the performance of Naïve Bayes"
   ]
  },
  {
   "cell_type": "code",
   "execution_count": 366,
   "id": "50f56b0a",
   "metadata": {},
   "outputs": [
    {
     "name": "stdout",
     "output_type": "stream",
     "text": [
      "Accuracy using Naïve Bayes: 0.6940167730629616\n",
      "Precision using Naïve Bayes: 0.8534890912973694\n",
      "Recall using Naïve Bayes: 0.6940167730629616\n",
      "F1 using Naïve Bayes: 0.747101908383856\n",
      "Confusion Matrix using Naïve Bayes: [[ 513  286   58]\n",
      " [ 308  876  334]\n",
      " [1500 2403 9700]]\n"
     ]
    }
   ],
   "source": [
    "acc_nb = accuracy_score(actual_labels_test, pred_nb)\n",
    "precision_nb = precision_score(actual_labels_test, pred_nb, average='weighted')\n",
    "recall_nb = recall_score(actual_labels_test, pred_nb, average= 'weighted')\n",
    "f1_nb = f1_score(actual_labels_test, pred_nb, average= 'weighted')\n",
    "cm_nb = confusion_matrix(actual_labels_test, pred_nb)\n",
    "\n",
    "print(f'Accuracy using Naïve Bayes: {acc_nb}')\n",
    "print(f'Precision using Naïve Bayes: {precision_nb}')\n",
    "print(f'Recall using Naïve Bayes: {recall_nb}')\n",
    "print(f'F1 using Naïve Bayes: {f1_nb}')\n",
    "print(f'Confusion Matrix using Naïve Bayes: {cm_nb}')"
   ]
  },
  {
   "cell_type": "markdown",
   "id": "ae16d581",
   "metadata": {},
   "source": [
    "## Logistic Regression"
   ]
  },
  {
   "cell_type": "code",
   "execution_count": 367,
   "id": "abb8d1f8",
   "metadata": {},
   "outputs": [],
   "source": [
    "lg_sag = LogisticRegression(solver='lbfgs', max_iter=2000).fit(X_train,y_train)\n"
   ]
  },
  {
   "cell_type": "code",
   "execution_count": 368,
   "id": "5a52c7ae",
   "metadata": {},
   "outputs": [],
   "source": [
    "pred_sag = lg_sag.predict(X_test)"
   ]
  },
  {
   "cell_type": "markdown",
   "id": "9f4ce77d",
   "metadata": {},
   "source": [
    "#### Testing performance of Logistic Regression"
   ]
  },
  {
   "cell_type": "code",
   "execution_count": 369,
   "id": "07139561",
   "metadata": {},
   "outputs": [
    {
     "name": "stdout",
     "output_type": "stream",
     "text": [
      "Accuracy using Naïve Bayes: 0.8032294404806609\n",
      "Precision using Naïve Bayes: 0.8629448786756962\n",
      "Recall using Naïve Bayes: 0.8032294404806609\n",
      "F1 using Naïve Bayes: 0.8264277190347572\n",
      "Confusion Matrix using Naïve Bayes:\n",
      " [[  528   232    97]\n",
      " [  269   793   456]\n",
      " [  507  1583 11513]]\n"
     ]
    }
   ],
   "source": [
    "acc_sag = accuracy_score(actual_labels_test, pred_sag)\n",
    "precision_sag = precision_score(actual_labels_test, pred_sag, average='weighted')\n",
    "recall_sag = recall_score(actual_labels_test, pred_sag, average= 'weighted')\n",
    "f1_sag = f1_score(actual_labels_test, pred_sag, average= 'weighted')\n",
    "cm_sag = confusion_matrix(actual_labels_test, pred_sag)\n",
    "\n",
    "print(f'Accuracy using Naïve Bayes: {acc_sag}')\n",
    "print(f'Precision using Naïve Bayes: {precision_sag}')\n",
    "print(f'Recall using Naïve Bayes: {recall_sag}')\n",
    "print(f'F1 using Naïve Bayes: {f1_sag}')\n",
    "print(f'Confusion Matrix using Naïve Bayes:\\n {cm_sag}')"
   ]
  },
  {
   "cell_type": "markdown",
   "id": "d6789b29",
   "metadata": {},
   "source": [
    "#### Gradient Boosting"
   ]
  },
  {
   "cell_type": "code",
   "execution_count": 252,
   "id": "faa9d63e",
   "metadata": {},
   "outputs": [],
   "source": [
    "gb_clf = GradientBoostingClassifier(n_estimators=200, learning_rate=0.01, max_features=2, max_depth=None, random_state=0)"
   ]
  },
  {
   "cell_type": "code",
   "execution_count": 253,
   "id": "115c61ac",
   "metadata": {},
   "outputs": [
    {
     "data": {
      "text/plain": [
       "GradientBoostingClassifier(learning_rate=0.01, max_depth=None, max_features=2,\n",
       "                           n_estimators=200, random_state=0)"
      ]
     },
     "execution_count": 253,
     "metadata": {},
     "output_type": "execute_result"
    }
   ],
   "source": [
    "gb_clf.fit(X_train, y_train)"
   ]
  },
  {
   "cell_type": "code",
   "execution_count": 254,
   "id": "be3c044f",
   "metadata": {},
   "outputs": [],
   "source": [
    "pred_gb = gb_clf.predict(X_test)"
   ]
  },
  {
   "cell_type": "code",
   "execution_count": 255,
   "id": "7a2394a2",
   "metadata": {},
   "outputs": [
    {
     "name": "stdout",
     "output_type": "stream",
     "text": [
      "Accuracy using Gradient Boosting: 0.5886511627906976\n",
      "Precision using Gradient Boosting: 0.5774197219356896\n",
      "Recall using Gradient Boosting: 0.5886511627906976\n",
      "F1 using Gradient Boosting: 0.5038662313742945\n",
      "Confusion Matrix using Gradient Boosting: [[ 119   69  669]\n",
      " [  37  205 1276]\n",
      " [  26  134 2840]]\n"
     ]
    }
   ],
   "source": [
    "acc_gb = accuracy_score(actual_labels_test, pred_gb)\n",
    "precision_gb = precision_score(actual_labels_test, pred_gb, average='weighted')\n",
    "recall_gb = recall_score(actual_labels_test, pred_gb, average='weighted')\n",
    "f1_gb = f1_score(actual_labels_test, pred_gb, average='weighted')\n",
    "cm_gb = confusion_matrix(actual_labels_test, pred_gb)\n",
    "\n",
    "print(f'Accuracy using Gradient Boosting: {acc_gb}')\n",
    "print(f'Precision using Gradient Boosting: {precision_gb}')\n",
    "print(f'Recall using Gradient Boosting: {recall_gb}')\n",
    "print(f'F1 using Gradient Boosting: {f1_gb}')\n",
    "print(f'Confusion Matrix using Gradient Boosting: {cm_gb}')"
   ]
  },
  {
   "cell_type": "markdown",
   "id": "e9f5441f",
   "metadata": {},
   "source": [
    "#### Random Forest"
   ]
  },
  {
   "cell_type": "code",
   "execution_count": 305,
   "id": "11202c71",
   "metadata": {},
   "outputs": [],
   "source": [
    "from sklearn.ensemble import RandomForestClassifier"
   ]
  },
  {
   "cell_type": "code",
   "execution_count": 306,
   "id": "bce50dd4",
   "metadata": {},
   "outputs": [],
   "source": [
    "rf = RandomForestClassifier(n_estimators=1000)"
   ]
  },
  {
   "cell_type": "code",
   "execution_count": 307,
   "id": "20f0fe7f",
   "metadata": {},
   "outputs": [
    {
     "data": {
      "text/plain": [
       "RandomForestClassifier(n_estimators=1000)"
      ]
     },
     "execution_count": 307,
     "metadata": {},
     "output_type": "execute_result"
    }
   ],
   "source": [
    "rf.fit(X_train, y_train)"
   ]
  },
  {
   "cell_type": "code",
   "execution_count": 308,
   "id": "05e67560",
   "metadata": {},
   "outputs": [],
   "source": [
    "pred_rf = rf.predict(X_test)"
   ]
  },
  {
   "cell_type": "code",
   "execution_count": 310,
   "id": "7d826b79",
   "metadata": {},
   "outputs": [
    {
     "name": "stdout",
     "output_type": "stream",
     "text": [
      "Accuracy using Gradient Boosting: 0.6437209302325582\n",
      "Precision using Gradient Boosting: 0.6306642478328236\n",
      "Recall using Gradient Boosting: 0.6437209302325582\n",
      "F1 using Gradient Boosting: 0.6273674965985172\n",
      "Confusion Matrix using Gradient Boosting:\n",
      " [[ 314  209  334]\n",
      " [ 102  649  767]\n",
      " [  88  415 2497]]\n"
     ]
    }
   ],
   "source": [
    "acc_rf = accuracy_score(actual_labels_test, pred_rf)\n",
    "precision_rf = precision_score(actual_labels_test, pred_rf, average='weighted')\n",
    "recall_rf = recall_score(actual_labels_test, pred_rf, average='weighted')\n",
    "f1_rf = f1_score(actual_labels_test, pred_rf, average='weighted')\n",
    "cm_rf = confusion_matrix(actual_labels_test, pred_rf)\n",
    "\n",
    "print(f'Accuracy using Gradient Boosting: {acc_rf}')\n",
    "print(f'Precision using Gradient Boosting: {precision_rf}')\n",
    "print(f'Recall using Gradient Boosting: {recall_rf}')\n",
    "print(f'F1 using Gradient Boosting: {f1_rf}')\n",
    "print(f'Confusion Matrix using Gradient Boosting:\\n {cm_rf}')"
   ]
  },
  {
   "cell_type": "markdown",
   "id": "6c55cc69",
   "metadata": {},
   "source": [
    "'''\n",
    "Precision, recall and f1-score are better performance measure when problem has imbalanced dataset.\n",
    "Becuase accuracy just shows proportion of total number of correct predition to the total prediction made. Model only performing \n",
    "good on bigger class will also give higher accuracy and it can be miss leading\n",
    "'''"
   ]
  },
  {
   "cell_type": "markdown",
   "id": "b4899128",
   "metadata": {},
   "source": [
    "''' F1-score is weighted mean of precision and recall. Therefore, f1-score alone can provide better insight of model performance easily.'''"
   ]
  },
  {
   "cell_type": "markdown",
   "id": "fb7da459",
   "metadata": {},
   "source": [
    "'''\n",
    "It can be noticed that Logistic Regression and SVM is performing better than RandomForest, GradientBoosting and Naive Bayes \n",
    "Therefore, Fine-tuning Logistiv Regression in next section to find best hyper parameters\n",
    "'''"
   ]
  },
  {
   "cell_type": "markdown",
   "id": "e7252df3",
   "metadata": {},
   "source": [
    "### Fine- tuning - RandomizedSearchCV"
   ]
  },
  {
   "cell_type": "code",
   "execution_count": 371,
   "id": "cbb2685d",
   "metadata": {},
   "outputs": [],
   "source": [
    "from sklearn.model_selection import RandomizedSearchCV"
   ]
  },
  {
   "cell_type": "code",
   "execution_count": 384,
   "id": "4c807ed0",
   "metadata": {},
   "outputs": [],
   "source": [
    "param_grid = { 'solver': ['sag','lbfgs'],\n",
    "            'C': np.logspace(-4, 4, 50),\n",
    "             'penalty':['l2']}\n",
    "\n",
    "clf = RandomizedSearchCV(LogisticRegression(max_iter=3000), param_grid,cv=5, verbose=0,n_jobs=-1)"
   ]
  },
  {
   "cell_type": "code",
   "execution_count": 385,
   "id": "17789176",
   "metadata": {},
   "outputs": [
    {
     "name": "stderr",
     "output_type": "stream",
     "text": [
      "C:\\ProgramData\\Anaconda3\\lib\\site-packages\\sklearn\\linear_model\\_logistic.py:814: ConvergenceWarning: lbfgs failed to converge (status=1):\n",
      "STOP: TOTAL NO. of ITERATIONS REACHED LIMIT.\n",
      "\n",
      "Increase the number of iterations (max_iter) or scale the data as shown in:\n",
      "    https://scikit-learn.org/stable/modules/preprocessing.html\n",
      "Please also refer to the documentation for alternative solver options:\n",
      "    https://scikit-learn.org/stable/modules/linear_model.html#logistic-regression\n",
      "  n_iter_i = _check_optimize_result(\n"
     ]
    }
   ],
   "source": [
    "best_model = clf.fit(X_train,y_train)"
   ]
  },
  {
   "cell_type": "code",
   "execution_count": 386,
   "id": "979263d4",
   "metadata": {},
   "outputs": [
    {
     "name": "stdout",
     "output_type": "stream",
     "text": [
      "LogisticRegression(C=1048.1131341546852, max_iter=3000)\n",
      "{'solver': 'lbfgs', 'penalty': 'l2', 'C': 1048.1131341546852}\n",
      "The mean accuracy of the model is: 0.9745948727643173\n"
     ]
    }
   ],
   "source": [
    "print(best_model.best_estimator_)\n",
    "print(best_model.best_params_)\n",
    "print(\"The mean accuracy of the model is:\",best_model.score(X_train,y_train))"
   ]
  },
  {
   "cell_type": "code",
   "execution_count": 387,
   "id": "3b806a6d",
   "metadata": {},
   "outputs": [],
   "source": [
    "pred_lg = best_model.predict(X_test)"
   ]
  },
  {
   "cell_type": "code",
   "execution_count": 388,
   "id": "fe962ab9",
   "metadata": {},
   "outputs": [
    {
     "name": "stdout",
     "output_type": "stream",
     "text": [
      "Accuracy using Gradient Boosting: 0.7970334209538115\n",
      "Precision using Gradient Boosting: 0.8367118485632697\n",
      "Recall using Gradient Boosting: 0.7970334209538115\n",
      "F1 using Gradient Boosting: 0.8141974097097454\n",
      "Confusion Matrix using Gradient Boosting:\n",
      " [[  428   236   193]\n",
      " [  229   590   699]\n",
      " [  442  1444 11717]]\n"
     ]
    }
   ],
   "source": [
    "acc_lg = accuracy_score(actual_labels_test, pred_lg)\n",
    "precision_lg = precision_score(actual_labels_test, pred_lg, average='weighted')\n",
    "recall_lg = recall_score(actual_labels_test, pred_lg, average='weighted')\n",
    "f1_lg = f1_score(actual_labels_test, pred_lg, average='weighted')\n",
    "cm_lg = confusion_matrix(actual_labels_test, pred_lg)\n",
    "\n",
    "print(f'Accuracy using Gradient Boosting: {acc_lg}')\n",
    "print(f'Precision using Gradient Boosting: {precision_lg}')\n",
    "print(f'Recall using Gradient Boosting: {recall_lg}')\n",
    "print(f'F1 using Gradient Boosting: {f1_lg}')\n",
    "print(f'Confusion Matrix using Gradient Boosting:\\n {cm_lg}')"
   ]
  }
 ],
 "metadata": {
  "kernelspec": {
   "display_name": "Python 3 (ipykernel)",
   "language": "python",
   "name": "python3"
  },
  "language_info": {
   "codemirror_mode": {
    "name": "ipython",
    "version": 3
   },
   "file_extension": ".py",
   "mimetype": "text/x-python",
   "name": "python",
   "nbconvert_exporter": "python",
   "pygments_lexer": "ipython3",
   "version": "3.9.7"
  }
 },
 "nbformat": 4,
 "nbformat_minor": 5
}
